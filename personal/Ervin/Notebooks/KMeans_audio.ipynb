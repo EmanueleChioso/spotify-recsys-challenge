{
 "cells": [
  {
   "cell_type": "code",
   "execution_count": 1,
   "metadata": {},
   "outputs": [],
   "source": [
    "from IPython.core.interactiveshell import InteractiveShell\n",
    "InteractiveShell.ast_node_interactivity = \"all\""
   ]
  },
  {
   "cell_type": "code",
   "execution_count": 2,
   "metadata": {},
   "outputs": [],
   "source": [
    "%matplotlib inline\n",
    "import matplotlib.pyplot as plt\n",
    "import seaborn as sns\n",
    "import numpy as np\n",
    "import pandas as pd\n",
    "from sklearn.cluster import KMeans\n",
    "from sklearn.preprocessing import MinMaxScaler\n",
    "from sklearn.metrics import silhouette_score\n",
    "seed=123"
   ]
  },
  {
   "cell_type": "code",
   "execution_count": 3,
   "metadata": {},
   "outputs": [
    {
     "data": {
      "text/plain": [
       "(2245092, 14)"
      ]
     },
     "execution_count": 3,
     "metadata": {},
     "output_type": "execute_result"
    }
   ],
   "source": [
    "track_features = pd.read_csv('../../../data/v2.0/tracks_audio_features_v2.0.csv', sep='\\t')\n",
    "track_features.shape"
   ]
  },
  {
   "cell_type": "code",
   "execution_count": 4,
   "metadata": {},
   "outputs": [
    {
     "data": {
      "text/plain": [
       "(2262292, 6)"
      ]
     },
     "execution_count": 4,
     "metadata": {},
     "output_type": "execute_result"
    },
    {
     "data": {
      "text/html": [
       "<div>\n",
       "<style scoped>\n",
       "    .dataframe tbody tr th:only-of-type {\n",
       "        vertical-align: middle;\n",
       "    }\n",
       "\n",
       "    .dataframe tbody tr th {\n",
       "        vertical-align: top;\n",
       "    }\n",
       "\n",
       "    .dataframe thead th {\n",
       "        text-align: right;\n",
       "    }\n",
       "</style>\n",
       "<table border=\"1\" class=\"dataframe\">\n",
       "  <thead>\n",
       "    <tr style=\"text-align: right;\">\n",
       "      <th></th>\n",
       "      <th>tid</th>\n",
       "      <th>arid</th>\n",
       "      <th>alid</th>\n",
       "      <th>track_uri</th>\n",
       "      <th>track_name</th>\n",
       "      <th>duration_ms</th>\n",
       "    </tr>\n",
       "  </thead>\n",
       "  <tbody>\n",
       "    <tr>\n",
       "      <th>2262287</th>\n",
       "      <td>2262287</td>\n",
       "      <td>93486</td>\n",
       "      <td>229637</td>\n",
       "      <td>spotify:track:2aOoiTTV0OR8DYxCk8o0JR</td>\n",
       "      <td>Forevermind - Pax217 Album Version</td>\n",
       "      <td>206400</td>\n",
       "    </tr>\n",
       "    <tr>\n",
       "      <th>2262288</th>\n",
       "      <td>2262288</td>\n",
       "      <td>93486</td>\n",
       "      <td>229637</td>\n",
       "      <td>spotify:track:1Uo65qTxnCg1N1X00lgcjr</td>\n",
       "      <td>Shalom - Pax217 Album Version</td>\n",
       "      <td>268266</td>\n",
       "    </tr>\n",
       "    <tr>\n",
       "      <th>2262289</th>\n",
       "      <td>2262289</td>\n",
       "      <td>93486</td>\n",
       "      <td>229637</td>\n",
       "      <td>spotify:track:5uEE5tii66I0cC7kZ7IMxE</td>\n",
       "      <td>Free To Be - Pax217 Album Version</td>\n",
       "      <td>334280</td>\n",
       "    </tr>\n",
       "    <tr>\n",
       "      <th>2262290</th>\n",
       "      <td>2262290</td>\n",
       "      <td>93486</td>\n",
       "      <td>229637</td>\n",
       "      <td>spotify:track:6A1RfnrMdxb24OYllzzTUX</td>\n",
       "      <td>Skwid - Pax217 Album Version</td>\n",
       "      <td>240453</td>\n",
       "    </tr>\n",
       "    <tr>\n",
       "      <th>2262291</th>\n",
       "      <td>2262291</td>\n",
       "      <td>295859</td>\n",
       "      <td>734683</td>\n",
       "      <td>spotify:track:5DvykFHB6utG6Hozpt5eNK</td>\n",
       "      <td>Running Thin</td>\n",
       "      <td>341933</td>\n",
       "    </tr>\n",
       "  </tbody>\n",
       "</table>\n",
       "</div>"
      ],
      "text/plain": [
       "             tid    arid    alid                             track_uri  \\\n",
       "2262287  2262287   93486  229637  spotify:track:2aOoiTTV0OR8DYxCk8o0JR   \n",
       "2262288  2262288   93486  229637  spotify:track:1Uo65qTxnCg1N1X00lgcjr   \n",
       "2262289  2262289   93486  229637  spotify:track:5uEE5tii66I0cC7kZ7IMxE   \n",
       "2262290  2262290   93486  229637  spotify:track:6A1RfnrMdxb24OYllzzTUX   \n",
       "2262291  2262291  295859  734683  spotify:track:5DvykFHB6utG6Hozpt5eNK   \n",
       "\n",
       "                                 track_name  duration_ms  \n",
       "2262287  Forevermind - Pax217 Album Version       206400  \n",
       "2262288       Shalom - Pax217 Album Version       268266  \n",
       "2262289   Free To Be - Pax217 Album Version       334280  \n",
       "2262290        Skwid - Pax217 Album Version       240453  \n",
       "2262291                        Running Thin       341933  "
      ]
     },
     "execution_count": 4,
     "metadata": {},
     "output_type": "execute_result"
    }
   ],
   "source": [
    "tracks = pd.read_csv('../../../data/original/tracks.csv', sep='\\t')\n",
    "tracks.shape\n",
    "tracks.tail()\n",
    "tracks = tracks[['tid', 'track_uri']]"
   ]
  },
  {
   "cell_type": "code",
   "execution_count": 5,
   "metadata": {},
   "outputs": [
    {
     "data": {
      "text/html": [
       "<div>\n",
       "<style scoped>\n",
       "    .dataframe tbody tr th:only-of-type {\n",
       "        vertical-align: middle;\n",
       "    }\n",
       "\n",
       "    .dataframe tbody tr th {\n",
       "        vertical-align: top;\n",
       "    }\n",
       "\n",
       "    .dataframe thead th {\n",
       "        text-align: right;\n",
       "    }\n",
       "</style>\n",
       "<table border=\"1\" class=\"dataframe\">\n",
       "  <thead>\n",
       "    <tr style=\"text-align: right;\">\n",
       "      <th></th>\n",
       "      <th>tid</th>\n",
       "      <th>track_uri</th>\n",
       "    </tr>\n",
       "  </thead>\n",
       "  <tbody>\n",
       "    <tr>\n",
       "      <th>2262287</th>\n",
       "      <td>2262287</td>\n",
       "      <td>spotify:track:2aOoiTTV0OR8DYxCk8o0JR</td>\n",
       "    </tr>\n",
       "    <tr>\n",
       "      <th>2262288</th>\n",
       "      <td>2262288</td>\n",
       "      <td>spotify:track:1Uo65qTxnCg1N1X00lgcjr</td>\n",
       "    </tr>\n",
       "    <tr>\n",
       "      <th>2262289</th>\n",
       "      <td>2262289</td>\n",
       "      <td>spotify:track:5uEE5tii66I0cC7kZ7IMxE</td>\n",
       "    </tr>\n",
       "    <tr>\n",
       "      <th>2262290</th>\n",
       "      <td>2262290</td>\n",
       "      <td>spotify:track:6A1RfnrMdxb24OYllzzTUX</td>\n",
       "    </tr>\n",
       "    <tr>\n",
       "      <th>2262291</th>\n",
       "      <td>2262291</td>\n",
       "      <td>spotify:track:5DvykFHB6utG6Hozpt5eNK</td>\n",
       "    </tr>\n",
       "  </tbody>\n",
       "</table>\n",
       "</div>"
      ],
      "text/plain": [
       "             tid                             track_uri\n",
       "2262287  2262287  spotify:track:2aOoiTTV0OR8DYxCk8o0JR\n",
       "2262288  2262288  spotify:track:1Uo65qTxnCg1N1X00lgcjr\n",
       "2262289  2262289  spotify:track:5uEE5tii66I0cC7kZ7IMxE\n",
       "2262290  2262290  spotify:track:6A1RfnrMdxb24OYllzzTUX\n",
       "2262291  2262291  spotify:track:5DvykFHB6utG6Hozpt5eNK"
      ]
     },
     "execution_count": 5,
     "metadata": {},
     "output_type": "execute_result"
    }
   ],
   "source": [
    "tracks.tail()"
   ]
  },
  {
   "cell_type": "code",
   "execution_count": null,
   "metadata": {},
   "outputs": [],
   "source": [
    "index_uri = track_features['uri']\n",
    "track_features = track_features.drop(columns=['uri', 'duration_ms', 'key', 'time_signature'])\n",
    "track_features['valence'].fillna(track_features['valence'].mean(), inplace=True)\n",
    "track_features = track_features.astype(np.float32)\n",
    "track_features['uri'] = index_uri\n",
    "scaler = MinMaxScaler()\n",
    "track_features['tempo'] = scaler.fit_transform(track_features.tempo.values.reshape(-1,1))\n",
    "track_features['loudness'] = scaler.fit_transform(track_features.loudness.values.reshape(-1,1))"
   ]
  },
  {
   "cell_type": "code",
   "execution_count": null,
   "metadata": {},
   "outputs": [],
   "source": [
    "track_features.tail()\n",
    "tracks.tail()"
   ]
  },
  {
   "cell_type": "code",
   "execution_count": null,
   "metadata": {},
   "outputs": [],
   "source": [
    "model = KMeans(n_clusters=5, n_jobs=-1, n_init=1)\n",
    "track_features['cluster'] = model.fit_predict(track_features[track_features.columns[:-1]])\n",
    "# audio_cols = track_features.columns[:-1]\n",
    "# audio_cols\n",
    "# cluster_means = track_features.groupby('cluster')[audio_cols].mean()\n",
    "# cluster_means"
   ]
  },
  {
   "cell_type": "code",
   "execution_count": null,
   "metadata": {},
   "outputs": [],
   "source": [
    "track_features = track_features[['uri', 'cluster']]\n",
    "track_features.tail()"
   ]
  },
  {
   "cell_type": "code",
   "execution_count": null,
   "metadata": {},
   "outputs": [],
   "source": [
    "track_features['track_uri'] = track_features['uri']\n",
    "track_features.drop('uri', axis=1, inplace=True)"
   ]
  },
  {
   "cell_type": "code",
   "execution_count": null,
   "metadata": {},
   "outputs": [],
   "source": [
    "a = pd.merge(tracks, track_features, on='track_uri',how='left')\n",
    "a.tail()\n",
    "a.shape"
   ]
  },
  {
   "cell_type": "code",
   "execution_count": null,
   "metadata": {},
   "outputs": [],
   "source": [
    "a.isnull().sum()"
   ]
  },
  {
   "cell_type": "code",
   "execution_count": null,
   "metadata": {},
   "outputs": [],
   "source": [
    "a.dropna(how='any', inplace=True)\n",
    "a.shape\n",
    "a.isnull().sum()"
   ]
  },
  {
   "cell_type": "raw",
   "metadata": {},
   "source": [
    "plt.figure(figsize=(15,8))\n",
    "sns.set(font_scale=1.5)\n",
    "sns.heatmap(\n",
    "    data=cluster_means,\n",
    "    cmap='Purples',\n",
    ")\n",
    "plt.ylabel(\"Cluster\")"
   ]
  },
  {
   "cell_type": "markdown",
   "metadata": {},
   "source": [
    "#### Cluster Analysis Elbow method"
   ]
  },
  {
   "cell_type": "raw",
   "metadata": {
    "scrolled": false
   },
   "source": [
    "last = 2\n",
    "for k in range(5, 51, 5):\n",
    "    Ks = np.arange(last, k)\n",
    "    print('Clusters k = [{}, {})'.format(last, k))\n",
    "    last = k\n",
    "    for i in Ks:\n",
    "        km = KMeans(n_clusters=i, n_jobs=-1, random_state=seed, n_init=5)\n",
    "        print('[Fitting KMeans-{}]'.format(i))\n",
    "        km.fit(track_features)\n",
    "        f = open('cluster_scores.txt', 'a+')\n",
    "        f.write('{},{}\\n'.format(i, -km.score(track_features)))\n",
    "        f.close()"
   ]
  },
  {
   "cell_type": "raw",
   "metadata": {},
   "source": [
    "plt.figure(figsize=(8,8))\n",
    "plt.plot([l[0] for i in scores for l in i],[l[1] for i in scores for l in i])\n",
    "#plt.xlim(0,18)\n",
    "plt.grid(True)\n",
    "plt.xlabel('K')\n",
    "plt.ylabel('Error')"
   ]
  },
  {
   "cell_type": "code",
   "execution_count": null,
   "metadata": {},
   "outputs": [],
   "source": [
    "scores = []\n",
    "with open('../cluster_scores.txt', 'r') as f:\n",
    "    for line in f:\n",
    "        n = line.split(',')\n",
    "        scores.append((n[0], n[1].strip()))"
   ]
  },
  {
   "cell_type": "code",
   "execution_count": null,
   "metadata": {},
   "outputs": [],
   "source": [
    "plt.figure(figsize=(8,8))\n",
    "plt.plot([int(l[0]) for l in scores],[float(l[1]) for l in scores])\n",
    "#plt.xlim(0,18)\n",
    "plt.grid(True)\n",
    "plt.xlabel('K')\n",
    "plt.ylabel('Error')"
   ]
  },
  {
   "cell_type": "code",
   "execution_count": null,
   "metadata": {},
   "outputs": [],
   "source": []
  }
 ],
 "metadata": {
  "kernelspec": {
   "display_name": "Python 3",
   "language": "python",
   "name": "python3"
  },
  "language_info": {
   "codemirror_mode": {
    "name": "ipython",
    "version": 3
   },
   "file_extension": ".py",
   "mimetype": "text/x-python",
   "name": "python",
   "nbconvert_exporter": "python",
   "pygments_lexer": "ipython3",
   "version": "3.6.2"
  }
 },
 "nbformat": 4,
 "nbformat_minor": 2
}
