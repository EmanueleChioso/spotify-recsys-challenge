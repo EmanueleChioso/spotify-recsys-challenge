{
 "cells": [
  {
   "cell_type": "code",
   "execution_count": 1,
   "metadata": {},
   "outputs": [],
   "source": [
    "from IPython.core.interactiveshell import InteractiveShell\n",
    "InteractiveShell.ast_node_interactivity = \"all\""
   ]
  },
  {
   "cell_type": "code",
   "execution_count": 2,
   "metadata": {},
   "outputs": [],
   "source": [
    "%matplotlib inline\n",
    "import matplotlib.pyplot as plt\n",
    "import numpy as np\n",
    "import pandas as pd\n",
    "import scipy.sparse as sps\n",
    "from sklearn.preprocessing import MinMaxScaler\n",
    "seed=123"
   ]
  },
  {
   "cell_type": "code",
   "execution_count": 3,
   "metadata": {},
   "outputs": [
    {
     "data": {
      "text/plain": [
       "(2262292, 18)"
      ]
     },
     "execution_count": 3,
     "metadata": {},
     "output_type": "execute_result"
    }
   ],
   "source": [
    "track_features = pd.read_csv('../../../data/v2/tracks_v3.0.csv', sep='\\t')\n",
    "track_features.shape"
   ]
  },
  {
   "cell_type": "code",
   "execution_count": 4,
   "metadata": {},
   "outputs": [],
   "source": [
    "feat = ['acousticness', 'danceability', 'energy', 'instrumentalness', 'key', 'liveness', 'loudness', 'mode', 'tempo',\n",
    "       'speechiness', 'time_signature', 'valence', 'duration_ms']"
   ]
  },
  {
   "cell_type": "code",
   "execution_count": 5,
   "metadata": {},
   "outputs": [
    {
     "data": {
      "text/plain": [
       "acousticness        9.960000e-01\n",
       "danceability        9.960000e-01\n",
       "energy              1.000000e+00\n",
       "instrumentalness    1.000000e+00\n",
       "key                 1.100000e+01\n",
       "liveness            1.000000e+00\n",
       "loudness            4.923000e+00\n",
       "mode                1.000000e+00\n",
       "tempo               2.499870e+02\n",
       "speechiness         9.710000e-01\n",
       "time_signature      5.000000e+00\n",
       "valence             1.000000e+00\n",
       "duration_ms         2.074458e+07\n",
       "dtype: float64"
      ]
     },
     "execution_count": 5,
     "metadata": {},
     "output_type": "execute_result"
    },
    {
     "data": {
      "text/plain": [
       "acousticness         0.0\n",
       "danceability         0.0\n",
       "energy               0.0\n",
       "instrumentalness     0.0\n",
       "key                  0.0\n",
       "liveness             0.0\n",
       "loudness           -60.0\n",
       "mode                 0.0\n",
       "tempo                0.0\n",
       "speechiness          0.0\n",
       "time_signature       0.0\n",
       "valence              0.0\n",
       "duration_ms         -1.0\n",
       "dtype: float64"
      ]
     },
     "execution_count": 5,
     "metadata": {},
     "output_type": "execute_result"
    }
   ],
   "source": [
    "track_features[feat].max()\n",
    "track_features[feat].min()"
   ]
  },
  {
   "cell_type": "code",
   "execution_count": 6,
   "metadata": {},
   "outputs": [],
   "source": [
    "track_features[feat] = track_features[feat].astype(np.float32)\n",
    "scaler = MinMaxScaler()\n",
    "track_features['tempo'] = scaler.fit_transform(track_features.tempo.values.reshape(-1,1))\n",
    "track_features['loudness'] = scaler.fit_transform(track_features.loudness.values.reshape(-1,1))\n",
    "track_features['duration_ms'] = scaler.fit_transform(track_features.loudness.values.reshape(-1,1))"
   ]
  },
  {
   "cell_type": "code",
   "execution_count": 7,
   "metadata": {},
   "outputs": [
    {
     "data": {
      "text/plain": [
       "acousticness         0.996\n",
       "danceability         0.996\n",
       "energy               1.000\n",
       "instrumentalness     1.000\n",
       "key                 11.000\n",
       "liveness             1.000\n",
       "loudness             1.000\n",
       "mode                 1.000\n",
       "tempo                1.000\n",
       "speechiness          0.971\n",
       "time_signature       5.000\n",
       "valence              1.000\n",
       "duration_ms          1.000\n",
       "dtype: float32"
      ]
     },
     "execution_count": 7,
     "metadata": {},
     "output_type": "execute_result"
    },
    {
     "data": {
      "text/plain": [
       "acousticness        0.0\n",
       "danceability        0.0\n",
       "energy              0.0\n",
       "instrumentalness    0.0\n",
       "key                 0.0\n",
       "liveness            0.0\n",
       "loudness            0.0\n",
       "mode                0.0\n",
       "tempo               0.0\n",
       "speechiness         0.0\n",
       "time_signature      0.0\n",
       "valence             0.0\n",
       "duration_ms         0.0\n",
       "dtype: float32"
      ]
     },
     "execution_count": 7,
     "metadata": {},
     "output_type": "execute_result"
    }
   ],
   "source": [
    "track_features[feat].max()\n",
    "track_features[feat].min()"
   ]
  },
  {
   "cell_type": "code",
   "execution_count": 8,
   "metadata": {},
   "outputs": [],
   "source": [
    "track_features = track_features.drop(['arid', 'alid', 'track_name', 'track_uri'], axis=1)"
   ]
  },
  {
   "cell_type": "code",
   "execution_count": 9,
   "metadata": {},
   "outputs": [
    {
     "data": {
      "text/html": [
       "<div>\n",
       "<style scoped>\n",
       "    .dataframe tbody tr th:only-of-type {\n",
       "        vertical-align: middle;\n",
       "    }\n",
       "\n",
       "    .dataframe tbody tr th {\n",
       "        vertical-align: top;\n",
       "    }\n",
       "\n",
       "    .dataframe thead th {\n",
       "        text-align: right;\n",
       "    }\n",
       "</style>\n",
       "<table border=\"1\" class=\"dataframe\">\n",
       "  <thead>\n",
       "    <tr style=\"text-align: right;\">\n",
       "      <th></th>\n",
       "      <th>tid</th>\n",
       "      <th>acousticness</th>\n",
       "      <th>danceability</th>\n",
       "      <th>energy</th>\n",
       "      <th>instrumentalness</th>\n",
       "      <th>key</th>\n",
       "      <th>liveness</th>\n",
       "      <th>loudness</th>\n",
       "      <th>mode</th>\n",
       "      <th>speechiness</th>\n",
       "      <th>tempo</th>\n",
       "      <th>time_signature</th>\n",
       "      <th>valence</th>\n",
       "      <th>duration_ms</th>\n",
       "    </tr>\n",
       "  </thead>\n",
       "  <tbody>\n",
       "    <tr>\n",
       "      <th>2262287</th>\n",
       "      <td>401903</td>\n",
       "      <td>0.142985</td>\n",
       "      <td>0.579333</td>\n",
       "      <td>0.660833</td>\n",
       "      <td>0.102223</td>\n",
       "      <td>6.0</td>\n",
       "      <td>0.149533</td>\n",
       "      <td>0.815574</td>\n",
       "      <td>1.0</td>\n",
       "      <td>0.085117</td>\n",
       "      <td>0.473099</td>\n",
       "      <td>4.0</td>\n",
       "      <td>0.299650</td>\n",
       "      <td>0.815574</td>\n",
       "    </tr>\n",
       "    <tr>\n",
       "      <th>2262288</th>\n",
       "      <td>401904</td>\n",
       "      <td>0.020492</td>\n",
       "      <td>0.447000</td>\n",
       "      <td>0.758000</td>\n",
       "      <td>0.230404</td>\n",
       "      <td>5.0</td>\n",
       "      <td>0.116680</td>\n",
       "      <td>0.827251</td>\n",
       "      <td>1.0</td>\n",
       "      <td>0.045000</td>\n",
       "      <td>0.517228</td>\n",
       "      <td>4.0</td>\n",
       "      <td>0.279000</td>\n",
       "      <td>0.827251</td>\n",
       "    </tr>\n",
       "    <tr>\n",
       "      <th>2262289</th>\n",
       "      <td>1537013</td>\n",
       "      <td>0.071669</td>\n",
       "      <td>0.749667</td>\n",
       "      <td>0.654000</td>\n",
       "      <td>0.751333</td>\n",
       "      <td>5.0</td>\n",
       "      <td>0.222727</td>\n",
       "      <td>0.758841</td>\n",
       "      <td>0.0</td>\n",
       "      <td>0.056600</td>\n",
       "      <td>0.481439</td>\n",
       "      <td>4.0</td>\n",
       "      <td>0.349067</td>\n",
       "      <td>0.758841</td>\n",
       "    </tr>\n",
       "    <tr>\n",
       "      <th>2262290</th>\n",
       "      <td>1537015</td>\n",
       "      <td>0.071669</td>\n",
       "      <td>0.749667</td>\n",
       "      <td>0.654000</td>\n",
       "      <td>0.751333</td>\n",
       "      <td>5.0</td>\n",
       "      <td>0.222727</td>\n",
       "      <td>0.758841</td>\n",
       "      <td>0.0</td>\n",
       "      <td>0.056600</td>\n",
       "      <td>0.481439</td>\n",
       "      <td>4.0</td>\n",
       "      <td>0.349067</td>\n",
       "      <td>0.758841</td>\n",
       "    </tr>\n",
       "    <tr>\n",
       "      <th>2262291</th>\n",
       "      <td>753659</td>\n",
       "      <td>0.136902</td>\n",
       "      <td>0.699538</td>\n",
       "      <td>0.655308</td>\n",
       "      <td>0.063500</td>\n",
       "      <td>6.0</td>\n",
       "      <td>0.151669</td>\n",
       "      <td>0.831020</td>\n",
       "      <td>1.0</td>\n",
       "      <td>0.076692</td>\n",
       "      <td>0.488635</td>\n",
       "      <td>4.0</td>\n",
       "      <td>0.488231</td>\n",
       "      <td>0.831020</td>\n",
       "    </tr>\n",
       "  </tbody>\n",
       "</table>\n",
       "</div>"
      ],
      "text/plain": [
       "             tid  acousticness  danceability    energy  instrumentalness  key  \\\n",
       "2262287   401903      0.142985      0.579333  0.660833          0.102223  6.0   \n",
       "2262288   401904      0.020492      0.447000  0.758000          0.230404  5.0   \n",
       "2262289  1537013      0.071669      0.749667  0.654000          0.751333  5.0   \n",
       "2262290  1537015      0.071669      0.749667  0.654000          0.751333  5.0   \n",
       "2262291   753659      0.136902      0.699538  0.655308          0.063500  6.0   \n",
       "\n",
       "         liveness  loudness  mode  speechiness     tempo  time_signature  \\\n",
       "2262287  0.149533  0.815574   1.0     0.085117  0.473099             4.0   \n",
       "2262288  0.116680  0.827251   1.0     0.045000  0.517228             4.0   \n",
       "2262289  0.222727  0.758841   0.0     0.056600  0.481439             4.0   \n",
       "2262290  0.222727  0.758841   0.0     0.056600  0.481439             4.0   \n",
       "2262291  0.151669  0.831020   1.0     0.076692  0.488635             4.0   \n",
       "\n",
       "          valence  duration_ms  \n",
       "2262287  0.299650     0.815574  \n",
       "2262288  0.279000     0.827251  \n",
       "2262289  0.349067     0.758841  \n",
       "2262290  0.349067     0.758841  \n",
       "2262291  0.488231     0.831020  "
      ]
     },
     "execution_count": 9,
     "metadata": {},
     "output_type": "execute_result"
    }
   ],
   "source": [
    "track_features.tail()"
   ]
  },
  {
   "cell_type": "code",
   "execution_count": 10,
   "metadata": {},
   "outputs": [],
   "source": [
    "track_features.sort_values(by='tid', inplace=True)"
   ]
  },
  {
   "cell_type": "code",
   "execution_count": 11,
   "metadata": {},
   "outputs": [
    {
     "data": {
      "text/html": [
       "<div>\n",
       "<style scoped>\n",
       "    .dataframe tbody tr th:only-of-type {\n",
       "        vertical-align: middle;\n",
       "    }\n",
       "\n",
       "    .dataframe tbody tr th {\n",
       "        vertical-align: top;\n",
       "    }\n",
       "\n",
       "    .dataframe thead th {\n",
       "        text-align: right;\n",
       "    }\n",
       "</style>\n",
       "<table border=\"1\" class=\"dataframe\">\n",
       "  <thead>\n",
       "    <tr style=\"text-align: right;\">\n",
       "      <th></th>\n",
       "      <th>tid</th>\n",
       "      <th>acousticness</th>\n",
       "      <th>danceability</th>\n",
       "      <th>energy</th>\n",
       "      <th>instrumentalness</th>\n",
       "      <th>key</th>\n",
       "      <th>liveness</th>\n",
       "      <th>loudness</th>\n",
       "      <th>mode</th>\n",
       "      <th>speechiness</th>\n",
       "      <th>tempo</th>\n",
       "      <th>time_signature</th>\n",
       "      <th>valence</th>\n",
       "      <th>duration_ms</th>\n",
       "    </tr>\n",
       "  </thead>\n",
       "  <tbody>\n",
       "    <tr>\n",
       "      <th>2262128</th>\n",
       "      <td>2262287</td>\n",
       "      <td>0.02410</td>\n",
       "      <td>0.587</td>\n",
       "      <td>0.830</td>\n",
       "      <td>0.000000</td>\n",
       "      <td>2.0</td>\n",
       "      <td>0.0781</td>\n",
       "      <td>0.867073</td>\n",
       "      <td>1.0</td>\n",
       "      <td>0.0556</td>\n",
       "      <td>0.332045</td>\n",
       "      <td>4.0</td>\n",
       "      <td>0.722</td>\n",
       "      <td>0.867073</td>\n",
       "    </tr>\n",
       "    <tr>\n",
       "      <th>2262129</th>\n",
       "      <td>2262288</td>\n",
       "      <td>0.01120</td>\n",
       "      <td>0.541</td>\n",
       "      <td>0.850</td>\n",
       "      <td>0.000315</td>\n",
       "      <td>2.0</td>\n",
       "      <td>0.1060</td>\n",
       "      <td>0.830569</td>\n",
       "      <td>1.0</td>\n",
       "      <td>0.0973</td>\n",
       "      <td>0.356363</td>\n",
       "      <td>4.0</td>\n",
       "      <td>0.175</td>\n",
       "      <td>0.830569</td>\n",
       "    </tr>\n",
       "    <tr>\n",
       "      <th>2262130</th>\n",
       "      <td>2262289</td>\n",
       "      <td>0.00634</td>\n",
       "      <td>0.724</td>\n",
       "      <td>0.568</td>\n",
       "      <td>0.000011</td>\n",
       "      <td>7.0</td>\n",
       "      <td>0.1590</td>\n",
       "      <td>0.801319</td>\n",
       "      <td>1.0</td>\n",
       "      <td>0.0533</td>\n",
       "      <td>0.312060</td>\n",
       "      <td>4.0</td>\n",
       "      <td>0.383</td>\n",
       "      <td>0.801319</td>\n",
       "    </tr>\n",
       "    <tr>\n",
       "      <th>2262131</th>\n",
       "      <td>2262290</td>\n",
       "      <td>0.00612</td>\n",
       "      <td>0.530</td>\n",
       "      <td>0.806</td>\n",
       "      <td>0.000000</td>\n",
       "      <td>1.0</td>\n",
       "      <td>0.1630</td>\n",
       "      <td>0.821974</td>\n",
       "      <td>0.0</td>\n",
       "      <td>0.0319</td>\n",
       "      <td>0.615456</td>\n",
       "      <td>4.0</td>\n",
       "      <td>0.777</td>\n",
       "      <td>0.821974</td>\n",
       "    </tr>\n",
       "    <tr>\n",
       "      <th>2262132</th>\n",
       "      <td>2262291</td>\n",
       "      <td>0.06790</td>\n",
       "      <td>0.310</td>\n",
       "      <td>0.548</td>\n",
       "      <td>0.000112</td>\n",
       "      <td>9.0</td>\n",
       "      <td>0.1100</td>\n",
       "      <td>0.790506</td>\n",
       "      <td>0.0</td>\n",
       "      <td>0.0361</td>\n",
       "      <td>0.475233</td>\n",
       "      <td>4.0</td>\n",
       "      <td>0.192</td>\n",
       "      <td>0.790506</td>\n",
       "    </tr>\n",
       "  </tbody>\n",
       "</table>\n",
       "</div>"
      ],
      "text/plain": [
       "             tid  acousticness  danceability  energy  instrumentalness  key  \\\n",
       "2262128  2262287       0.02410         0.587   0.830          0.000000  2.0   \n",
       "2262129  2262288       0.01120         0.541   0.850          0.000315  2.0   \n",
       "2262130  2262289       0.00634         0.724   0.568          0.000011  7.0   \n",
       "2262131  2262290       0.00612         0.530   0.806          0.000000  1.0   \n",
       "2262132  2262291       0.06790         0.310   0.548          0.000112  9.0   \n",
       "\n",
       "         liveness  loudness  mode  speechiness     tempo  time_signature  \\\n",
       "2262128    0.0781  0.867073   1.0       0.0556  0.332045             4.0   \n",
       "2262129    0.1060  0.830569   1.0       0.0973  0.356363             4.0   \n",
       "2262130    0.1590  0.801319   1.0       0.0533  0.312060             4.0   \n",
       "2262131    0.1630  0.821974   0.0       0.0319  0.615456             4.0   \n",
       "2262132    0.1100  0.790506   0.0       0.0361  0.475233             4.0   \n",
       "\n",
       "         valence  duration_ms  \n",
       "2262128    0.722     0.867073  \n",
       "2262129    0.175     0.830569  \n",
       "2262130    0.383     0.801319  \n",
       "2262131    0.777     0.821974  \n",
       "2262132    0.192     0.790506  "
      ]
     },
     "execution_count": 11,
     "metadata": {},
     "output_type": "execute_result"
    }
   ],
   "source": [
    "track_features.tail()"
   ]
  },
  {
   "cell_type": "code",
   "execution_count": 12,
   "metadata": {},
   "outputs": [],
   "source": [
    "track_features = track_features.drop('tid',axis=1)"
   ]
  },
  {
   "cell_type": "code",
   "execution_count": 13,
   "metadata": {},
   "outputs": [
    {
     "data": {
      "text/plain": [
       "Index(['acousticness', 'danceability', 'energy', 'instrumentalness', 'key',\n",
       "       'liveness', 'loudness', 'mode', 'speechiness', 'tempo',\n",
       "       'time_signature', 'valence', 'duration_ms'],\n",
       "      dtype='object')"
      ]
     },
     "execution_count": 13,
     "metadata": {},
     "output_type": "execute_result"
    }
   ],
   "source": [
    "track_features.columns"
   ]
  },
  {
   "cell_type": "code",
   "execution_count": 14,
   "metadata": {},
   "outputs": [],
   "source": [
    "tf = track_features.values"
   ]
  },
  {
   "cell_type": "code",
   "execution_count": 15,
   "metadata": {},
   "outputs": [],
   "source": [
    "audio_matrix = sps.csr_matrix(tf)"
   ]
  },
  {
   "cell_type": "code",
   "execution_count": 19,
   "metadata": {},
   "outputs": [],
   "source": [
    "sps.save_npz(file='audio_features_csr', matrix=audio_matrix)"
   ]
  },
  {
   "cell_type": "code",
   "execution_count": null,
   "metadata": {},
   "outputs": [],
   "source": []
  }
 ],
 "metadata": {
  "kernelspec": {
   "display_name": "Python 3",
   "language": "python",
   "name": "python3"
  },
  "language_info": {
   "codemirror_mode": {
    "name": "ipython",
    "version": 3
   },
   "file_extension": ".py",
   "mimetype": "text/x-python",
   "name": "python",
   "nbconvert_exporter": "python",
   "pygments_lexer": "ipython3",
   "version": "3.5.2"
  }
 },
 "nbformat": 4,
 "nbformat_minor": 2
}
