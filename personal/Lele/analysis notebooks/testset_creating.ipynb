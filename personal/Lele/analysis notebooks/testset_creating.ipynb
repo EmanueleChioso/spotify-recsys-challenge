{
 "cells": [
  {
   "cell_type": "code",
   "execution_count": 1,
   "metadata": {},
   "outputs": [],
   "source": [
    "import pandas as pd\n",
    "import numpy as np\n",
    "from tqdm import tqdm\n",
    "import gc"
   ]
  },
  {
   "cell_type": "code",
   "execution_count": 2,
   "metadata": {},
   "outputs": [],
   "source": [
    "def extract_emojis(string):\n",
    "    try:\n",
    "        return ''.join(c for c in str(string) if c in emoji.UNICODE_EMOJI)\n",
    "    except TypeError:\n",
    "        print('wattafak is dat', type(string), string)\n",
    "        exit()\n",
    "\n",
    "def __check_conditions(df, mean, std, error=(1,1)):\n",
    "    target_mean = np.mean(df['num_tracks'])\n",
    "    target_std = np.std(df['num_tracks'])\n",
    "    if mean > (target_mean + error[0]) or mean < (target_mean - error[0]):\n",
    "        print(\"error m \",mean,target_mean)\n",
    "        return False\n",
    "    if std > (target_std + error[1]) or std < (target_std - error[1]):\n",
    "        print(\"error s \",std,target_std)\n",
    "        return False\n",
    "    return True\n",
    "\n",
    "def get_random_df_constrained(source_df, num_of_pl, min_v, max_v, mean, std, errors=(1.0, 1.0)):\n",
    "    \"\"\"\n",
    "    iterates until it created a dataframe that satisfies the conditions.\n",
    "    \"\"\"\n",
    "    seed = 0\n",
    "    while True:\n",
    "        df = source_df[((source_df['num_tracks']) >= min_v) & ((source_df['num_tracks']) <= max_v)].sample(\n",
    "            n=num_of_pl, random_state=seed)\n",
    "        if __check_conditions(df, mean=mean, std=std, error=errors):\n",
    "            break\n",
    "        seed+=1\n",
    "    return df,seed\n"
   ]
  },
  {
   "cell_type": "code",
   "execution_count": 3,
   "metadata": {},
   "outputs": [],
   "source": [
    "playlists_train = pd.read_csv(\"../../../dataset/playlists.csv\", delimiter='\\t')\n",
    "interactions = pd.read_csv(\"../../../dataset/interactions.csv\", delimiter='\\t')\n",
    "tracks = pd.read_csv(\"../../../dataset/tracks.csv\", delimiter='\\t')\n"
   ]
  },
  {
   "cell_type": "code",
   "execution_count": 4,
   "metadata": {},
   "outputs": [
    {
     "data": {
      "text/html": [
       "<div>\n",
       "<style scoped>\n",
       "    .dataframe tbody tr th:only-of-type {\n",
       "        vertical-align: middle;\n",
       "    }\n",
       "\n",
       "    .dataframe tbody tr th {\n",
       "        vertical-align: top;\n",
       "    }\n",
       "\n",
       "    .dataframe thead th {\n",
       "        text-align: right;\n",
       "    }\n",
       "</style>\n",
       "<table border=\"1\" class=\"dataframe\">\n",
       "  <thead>\n",
       "    <tr style=\"text-align: right;\">\n",
       "      <th></th>\n",
       "      <th>name</th>\n",
       "      <th>collaborative</th>\n",
       "      <th>pid</th>\n",
       "      <th>modified_at</th>\n",
       "      <th>num_albums</th>\n",
       "      <th>num_tracks</th>\n",
       "      <th>num_followers</th>\n",
       "      <th>num_tracks.1</th>\n",
       "      <th>num_edits</th>\n",
       "      <th>duration_ms</th>\n",
       "      <th>num_artists</th>\n",
       "      <th>description</th>\n",
       "    </tr>\n",
       "  </thead>\n",
       "  <tbody>\n",
       "    <tr>\n",
       "      <th>0</th>\n",
       "      <td>Throwbacks</td>\n",
       "      <td>False</td>\n",
       "      <td>0</td>\n",
       "      <td>1493424000</td>\n",
       "      <td>47</td>\n",
       "      <td>52</td>\n",
       "      <td>1</td>\n",
       "      <td>52</td>\n",
       "      <td>6</td>\n",
       "      <td>11532414</td>\n",
       "      <td>37</td>\n",
       "      <td>NaN</td>\n",
       "    </tr>\n",
       "    <tr>\n",
       "      <th>1</th>\n",
       "      <td>Awesome Playlist</td>\n",
       "      <td>False</td>\n",
       "      <td>1</td>\n",
       "      <td>1506556800</td>\n",
       "      <td>23</td>\n",
       "      <td>39</td>\n",
       "      <td>1</td>\n",
       "      <td>39</td>\n",
       "      <td>5</td>\n",
       "      <td>11656470</td>\n",
       "      <td>21</td>\n",
       "      <td>NaN</td>\n",
       "    </tr>\n",
       "    <tr>\n",
       "      <th>2</th>\n",
       "      <td>korean</td>\n",
       "      <td>False</td>\n",
       "      <td>2</td>\n",
       "      <td>1505692800</td>\n",
       "      <td>51</td>\n",
       "      <td>64</td>\n",
       "      <td>1</td>\n",
       "      <td>64</td>\n",
       "      <td>18</td>\n",
       "      <td>14039958</td>\n",
       "      <td>31</td>\n",
       "      <td>NaN</td>\n",
       "    </tr>\n",
       "    <tr>\n",
       "      <th>3</th>\n",
       "      <td>mat</td>\n",
       "      <td>False</td>\n",
       "      <td>3</td>\n",
       "      <td>1501027200</td>\n",
       "      <td>107</td>\n",
       "      <td>126</td>\n",
       "      <td>1</td>\n",
       "      <td>126</td>\n",
       "      <td>4</td>\n",
       "      <td>28926058</td>\n",
       "      <td>86</td>\n",
       "      <td>NaN</td>\n",
       "    </tr>\n",
       "    <tr>\n",
       "      <th>4</th>\n",
       "      <td>90s</td>\n",
       "      <td>False</td>\n",
       "      <td>4</td>\n",
       "      <td>1401667200</td>\n",
       "      <td>16</td>\n",
       "      <td>17</td>\n",
       "      <td>2</td>\n",
       "      <td>17</td>\n",
       "      <td>7</td>\n",
       "      <td>4335282</td>\n",
       "      <td>16</td>\n",
       "      <td>NaN</td>\n",
       "    </tr>\n",
       "  </tbody>\n",
       "</table>\n",
       "</div>"
      ],
      "text/plain": [
       "               name  collaborative  pid  modified_at  num_albums  num_tracks  \\\n",
       "0        Throwbacks          False    0   1493424000          47          52   \n",
       "1  Awesome Playlist          False    1   1506556800          23          39   \n",
       "2           korean           False    2   1505692800          51          64   \n",
       "3               mat          False    3   1501027200         107         126   \n",
       "4               90s          False    4   1401667200          16          17   \n",
       "\n",
       "   num_followers  num_tracks.1  num_edits  duration_ms  num_artists  \\\n",
       "0              1            52          6     11532414           37   \n",
       "1              1            39          5     11656470           21   \n",
       "2              1            64         18     14039958           31   \n",
       "3              1           126          4     28926058           86   \n",
       "4              2            17          7      4335282           16   \n",
       "\n",
       "  description  \n",
       "0         NaN  \n",
       "1         NaN  \n",
       "2         NaN  \n",
       "3         NaN  \n",
       "4         NaN  "
      ]
     },
     "execution_count": 4,
     "metadata": {},
     "output_type": "execute_result"
    }
   ],
   "source": [
    "playlists.head()"
   ]
  },
  {
   "cell_type": "code",
   "execution_count": 5,
   "metadata": {},
   "outputs": [
    {
     "data": {
      "text/html": [
       "<div>\n",
       "<style scoped>\n",
       "    .dataframe tbody tr th:only-of-type {\n",
       "        vertical-align: middle;\n",
       "    }\n",
       "\n",
       "    .dataframe tbody tr th {\n",
       "        vertical-align: top;\n",
       "    }\n",
       "\n",
       "    .dataframe thead th {\n",
       "        text-align: right;\n",
       "    }\n",
       "</style>\n",
       "<table border=\"1\" class=\"dataframe\">\n",
       "  <thead>\n",
       "    <tr style=\"text-align: right;\">\n",
       "      <th></th>\n",
       "      <th>pid</th>\n",
       "      <th>tid</th>\n",
       "      <th>pos</th>\n",
       "    </tr>\n",
       "  </thead>\n",
       "  <tbody>\n",
       "    <tr>\n",
       "      <th>0</th>\n",
       "      <td>0</td>\n",
       "      <td>0</td>\n",
       "      <td>0</td>\n",
       "    </tr>\n",
       "    <tr>\n",
       "      <th>1</th>\n",
       "      <td>0</td>\n",
       "      <td>1</td>\n",
       "      <td>1</td>\n",
       "    </tr>\n",
       "    <tr>\n",
       "      <th>2</th>\n",
       "      <td>0</td>\n",
       "      <td>2</td>\n",
       "      <td>2</td>\n",
       "    </tr>\n",
       "    <tr>\n",
       "      <th>3</th>\n",
       "      <td>0</td>\n",
       "      <td>3</td>\n",
       "      <td>3</td>\n",
       "    </tr>\n",
       "    <tr>\n",
       "      <th>4</th>\n",
       "      <td>0</td>\n",
       "      <td>4</td>\n",
       "      <td>4</td>\n",
       "    </tr>\n",
       "  </tbody>\n",
       "</table>\n",
       "</div>"
      ],
      "text/plain": [
       "   pid  tid  pos\n",
       "0    0    0    0\n",
       "1    0    1    1\n",
       "2    0    2    2\n",
       "3    0    3    3\n",
       "4    0    4    4"
      ]
     },
     "execution_count": 5,
     "metadata": {},
     "output_type": "execute_result"
    }
   ],
   "source": [
    "interactions.head()"
   ]
  },
  {
   "cell_type": "code",
   "execution_count": 6,
   "metadata": {},
   "outputs": [
    {
     "data": {
      "text/plain": [
       "66346428"
      ]
     },
     "execution_count": 6,
     "metadata": {},
     "output_type": "execute_result"
    }
   ],
   "source": [
    "len(interactions)"
   ]
  },
  {
   "cell_type": "code",
   "execution_count": 7,
   "metadata": {},
   "outputs": [
    {
     "data": {
      "text/html": [
       "<div>\n",
       "<style scoped>\n",
       "    .dataframe tbody tr th:only-of-type {\n",
       "        vertical-align: middle;\n",
       "    }\n",
       "\n",
       "    .dataframe tbody tr th {\n",
       "        vertical-align: top;\n",
       "    }\n",
       "\n",
       "    .dataframe thead th {\n",
       "        text-align: right;\n",
       "    }\n",
       "</style>\n",
       "<table border=\"1\" class=\"dataframe\">\n",
       "  <thead>\n",
       "    <tr style=\"text-align: right;\">\n",
       "      <th></th>\n",
       "      <th>tid</th>\n",
       "      <th>arid</th>\n",
       "      <th>alid</th>\n",
       "      <th>track_uri</th>\n",
       "      <th>track_name</th>\n",
       "      <th>duration_ms</th>\n",
       "    </tr>\n",
       "  </thead>\n",
       "  <tbody>\n",
       "    <tr>\n",
       "      <th>0</th>\n",
       "      <td>0</td>\n",
       "      <td>0</td>\n",
       "      <td>0</td>\n",
       "      <td>spotify:track:0UaMYEvWZi0ZqiDOoHU3YI</td>\n",
       "      <td>Lose Control (feat. Ciara &amp; Fat Man Scoop)</td>\n",
       "      <td>226863</td>\n",
       "    </tr>\n",
       "    <tr>\n",
       "      <th>1</th>\n",
       "      <td>1</td>\n",
       "      <td>1</td>\n",
       "      <td>1</td>\n",
       "      <td>spotify:track:6I9VzXrHxO9rA9A5euc8Ak</td>\n",
       "      <td>Toxic</td>\n",
       "      <td>198800</td>\n",
       "    </tr>\n",
       "    <tr>\n",
       "      <th>2</th>\n",
       "      <td>2</td>\n",
       "      <td>2</td>\n",
       "      <td>2</td>\n",
       "      <td>spotify:track:0WqIKmW4BTrj3eJFmnCKMv</td>\n",
       "      <td>Crazy In Love</td>\n",
       "      <td>235933</td>\n",
       "    </tr>\n",
       "    <tr>\n",
       "      <th>3</th>\n",
       "      <td>3</td>\n",
       "      <td>3</td>\n",
       "      <td>3</td>\n",
       "      <td>spotify:track:1AWQoqb9bSvzTjaLralEkT</td>\n",
       "      <td>Rock Your Body</td>\n",
       "      <td>267266</td>\n",
       "    </tr>\n",
       "    <tr>\n",
       "      <th>4</th>\n",
       "      <td>4</td>\n",
       "      <td>4</td>\n",
       "      <td>4</td>\n",
       "      <td>spotify:track:1lzr43nnXAijIGYnCT8M8H</td>\n",
       "      <td>It Wasn't Me</td>\n",
       "      <td>227600</td>\n",
       "    </tr>\n",
       "  </tbody>\n",
       "</table>\n",
       "</div>"
      ],
      "text/plain": [
       "   tid  arid  alid                             track_uri  \\\n",
       "0    0     0     0  spotify:track:0UaMYEvWZi0ZqiDOoHU3YI   \n",
       "1    1     1     1  spotify:track:6I9VzXrHxO9rA9A5euc8Ak   \n",
       "2    2     2     2  spotify:track:0WqIKmW4BTrj3eJFmnCKMv   \n",
       "3    3     3     3  spotify:track:1AWQoqb9bSvzTjaLralEkT   \n",
       "4    4     4     4  spotify:track:1lzr43nnXAijIGYnCT8M8H   \n",
       "\n",
       "                                   track_name  duration_ms  \n",
       "0  Lose Control (feat. Ciara & Fat Man Scoop)       226863  \n",
       "1                                       Toxic       198800  \n",
       "2                               Crazy In Love       235933  \n",
       "3                              Rock Your Body       267266  \n",
       "4                                It Wasn't Me       227600  "
      ]
     },
     "execution_count": 7,
     "metadata": {},
     "output_type": "execute_result"
    }
   ],
   "source": [
    "tracks.head()"
   ]
  },
  {
   "cell_type": "code",
   "execution_count": 8,
   "metadata": {},
   "outputs": [
    {
     "data": {
      "text/plain": [
       "2262292"
      ]
     },
     "execution_count": 8,
     "metadata": {},
     "output_type": "execute_result"
    }
   ],
   "source": [
    "len(tracks)"
   ]
  },
  {
   "cell_type": "code",
   "execution_count": 9,
   "metadata": {},
   "outputs": [
    {
     "name": "stdout",
     "output_type": "stream",
     "text": [
      "        name:   (min_value,  max_value, how many to extract, mean,  std)\n"
     ]
    },
    {
     "data": {
      "text/plain": [
       "OrderedDict([('cat1', (10, 50, 1000, 28.6, 11.2)),\n",
       "             ('cat2_1', (10, 40, 998, 23.8, 8.7)),\n",
       "             ('cat2_2', (70, 80, 2, 75, 4)),\n",
       "             ('cat3_1', (10, 50, 314, 29.4, 11.4)),\n",
       "             ('cat3_2', (51, 75, 425, 62, 7.2)),\n",
       "             ('cat3_3', (75, 100, 261, 87, 7.1)),\n",
       "             ('cat4', (40, 100, 1000, 63, 16.5)),\n",
       "             ('cat5', (40, 100, 1000, 63.5, 17.2)),\n",
       "             ('cat6', (40, 100, 1000, 63.6, 16.7)),\n",
       "             ('cat7', (101, 250, 1000, 150, 38.6)),\n",
       "             ('cat8', (101, 250, 1000, 151.7, 38.6)),\n",
       "             ('cat9', (150, 250, 1000, 189, 28)),\n",
       "             ('cat_10', (150, 250, 1000, 187.5, 27))])"
      ]
     },
     "execution_count": 9,
     "metadata": {},
     "output_type": "execute_result"
    }
   ],
   "source": [
    "from collections import OrderedDict\n",
    "cates = {'cat1': (10, 50, 1000,28.6,11.2 ), 'cat2_1': (10, 40, 998,23.8,8.7),\n",
    "         'cat2_2':(70,80,2,75,4), 'cat3_1': (10, 50,314,29.4,11.4),\n",
    "         'cat3_2':(51,75,425,62,7.2),'cat3_3':(75,100,261,87,7.1),\n",
    "         'cat4': (40, 100,1000,63,16.5),'cat5': (40, 100,1000,63.5,17.2),\n",
    "         'cat6': (40, 100,1000,63.6,16.7),'cat7': (101, 250,1000,150,38.6),\n",
    "         'cat8': (101, 250,1000,151.7,38.6), 'cat9': (150, 250,1000,189,28),\n",
    "         'cat_10': (150, 250,1000,187.5,27)}\n",
    "cates = OrderedDict(sorted(cates.items(), key=lambda t: t[0]))\n",
    "print (\"        name:   (min_value,  max_value, how many to extract, mean,  std)\")\n",
    "cates"
   ]
  },
  {
   "cell_type": "code",
   "execution_count": null,
   "metadata": {},
   "outputs": [],
   "source": []
  },
  {
   "cell_type": "code",
   "execution_count": null,
   "metadata": {},
   "outputs": [],
   "source": []
  },
  {
   "cell_type": "code",
   "execution_count": 10,
   "metadata": {},
   "outputs": [
    {
     "name": "stdout",
     "output_type": "stream",
     "text": [
      "cat1\n",
      "cat2_1\n",
      "cat2_2\n",
      "error m  75 77.5\n",
      "error m  75 71.5\n",
      "cat3_1\n",
      "cat3_2\n",
      "cat3_3\n",
      "cat4\n",
      "cat5\n",
      "cat6\n",
      "cat7\n",
      "error m  150 152.275\n",
      "error m  150 154.241\n",
      "error m  150 152.305\n",
      "error m  150 153.184\n",
      "error m  150 152.819\n",
      "error m  150 153.749\n",
      "error m  150 152.838\n",
      "error m  150 152.839\n",
      "error m  150 153.489\n",
      "error m  150 152.47\n",
      "error m  150 151.523\n",
      "error m  150 153.747\n",
      "error m  150 151.538\n",
      "error m  150 154.061\n",
      "error m  150 152.616\n",
      "error m  150 151.774\n",
      "cat8\n",
      "error m  151.7 154.298\n",
      "error m  151.7 154.218\n",
      "error m  151.7 154.784\n",
      "cat9\n",
      "cat_10\n"
     ]
    }
   ],
   "source": [
    "cat_pids = {}\n",
    "seeds = [0]* len(cates)\n",
    "count = 0 \n",
    "for cat, info in cates.items():\n",
    "    print(cat)\n",
    "    df, seeds[count] = get_random_df_constrained(playlists_train, min_v=info[0], max_v=info[1], num_of_pl=info[2],\n",
    "                                                mean=info[3],std=info[4],errors=(1.5, 1.5))\n",
    "    cat_pids[cat] = list(df.pid)\n",
    "    playlists_train = playlists_train.drop(df.index)\n",
    "    count+=1\n",
    "playlists_train = playlists.reset_index(drop=True)\n",
    "\n"
   ]
  },
  {
   "cell_type": "code",
   "execution_count": 11,
   "metadata": {},
   "outputs": [],
   "source": [
    "#save\n",
    "playlists_train.to_csv(\"../testset/train_playlists.csv\",sep='\\t')\n",
    "gc.collect()\n",
    "del(playlists_train)"
   ]
  },
  {
   "cell_type": "code",
   "execution_count": null,
   "metadata": {},
   "outputs": [],
   "source": []
  },
  {
   "cell_type": "markdown",
   "metadata": {},
   "source": [
    "### to generate the same testset you need to use those two variables:\n",
    "cates, \n",
    "seeds"
   ]
  },
  {
   "cell_type": "code",
   "execution_count": 12,
   "metadata": {},
   "outputs": [
    {
     "data": {
      "text/plain": [
       "OrderedDict([('cat1', (10, 50, 1000, 28.6, 11.2)),\n",
       "             ('cat2_1', (10, 40, 998, 23.8, 8.7)),\n",
       "             ('cat2_2', (70, 80, 2, 75, 4)),\n",
       "             ('cat3_1', (10, 50, 314, 29.4, 11.4)),\n",
       "             ('cat3_2', (51, 75, 425, 62, 7.2)),\n",
       "             ('cat3_3', (75, 100, 261, 87, 7.1)),\n",
       "             ('cat4', (40, 100, 1000, 63, 16.5)),\n",
       "             ('cat5', (40, 100, 1000, 63.5, 17.2)),\n",
       "             ('cat6', (40, 100, 1000, 63.6, 16.7)),\n",
       "             ('cat7', (101, 250, 1000, 150, 38.6)),\n",
       "             ('cat8', (101, 250, 1000, 151.7, 38.6)),\n",
       "             ('cat9', (150, 250, 1000, 189, 28)),\n",
       "             ('cat_10', (150, 250, 1000, 187.5, 27))])"
      ]
     },
     "execution_count": 12,
     "metadata": {},
     "output_type": "execute_result"
    }
   ],
   "source": [
    "cates"
   ]
  },
  {
   "cell_type": "code",
   "execution_count": 13,
   "metadata": {},
   "outputs": [
    {
     "data": {
      "text/plain": [
       "[0, 0, 2, 0, 0, 0, 0, 0, 0, 16, 3, 0, 0]"
      ]
     },
     "execution_count": 13,
     "metadata": {},
     "output_type": "execute_result"
    }
   ],
   "source": [
    "seeds"
   ]
  },
  {
   "cell_type": "markdown",
   "metadata": {},
   "source": [
    "### after having selected the pids of the song to extract, we generate the files"
   ]
  },
  {
   "cell_type": "code",
   "execution_count": 14,
   "metadata": {},
   "outputs": [],
   "source": [
    "def build_df(pids, title, num_samples):\n",
    "    pids= cat_pids[cat]\n",
    "    df = playlists[playlists['pid'].isin(pids)]\n",
    "    df=df[['name','pid','num_tracks']]\n",
    "    if not title:\n",
    "        df['name']=''\n",
    "    df['num_samples'] = num_samples\n",
    "    df['num_holdouts'] = df['num_tracks'] - df['num_samples']\n",
    "    return df"
   ]
  },
  {
   "cell_type": "code",
   "execution_count": null,
   "metadata": {},
   "outputs": [],
   "source": []
  },
  {
   "cell_type": "code",
   "execution_count": 15,
   "metadata": {},
   "outputs": [
    {
     "name": "stdout",
     "output_type": "stream",
     "text": [
      "cat1 start- build playlist sample- interactions- interactions drop- extract songscat2_1 start- build playlist sample- interactions- interactions drop- extract songscat2_2 start- build playlist sample- interactions- interactions drop- extract songscat3_1 start- build playlist sample- interactions- interactions drop- extract songscat3_2 start- build playlist sample- interactions- interactions drop- extract songscat3_3 start- build playlist sample- interactions- interactions drop- extract songscat4 start- build playlist sample- interactions- interactions drop- extract songscat5 start- build playlist sample- interactions- interactions drop- extract songscat6 start- build playlist sample- interactions- interactions drop- extract songscat7 start- build playlist sample- interactions- interactions drop- extract songscat8 start- build playlist sample- interactions- interactions drop- extract songscat9 start- build playlist sample- interactions- interactions drop- extract songscat_10 start- build playlist sample- interactions- interactions drop- extract songs"
     ]
    }
   ],
   "source": [
    "playlists_challange = pd.DataFrame()\n",
    "test_interactions = pd.DataFrame()\n",
    "evaluation_interactions = pd.DataFrame()\n",
    "df_eval_itr= pd.DataFrame()\n",
    "\n",
    "\n",
    "def build_playlists_df(pids, title, num_samples):\n",
    "    df = playlists[playlists['pid'].isin(pids)]\n",
    "    df=df[['name','pid','num_tracks']]\n",
    "    if not title:\n",
    "        df['name']=''\n",
    "    df['num_samples'] = num_samples\n",
    "    df['num_holdouts'] = df['num_tracks'] - df['num_samples']\n",
    "    return df\n",
    "\n",
    "\n",
    "for cat in cates.keys():\n",
    "    gc.collect()\n",
    "    pids= cat_pids[cat]\n",
    "    \n",
    "    if cat == 'cat1': \n",
    "        print(cat,\"start\", end='')   \n",
    "        #Predict tracks for a playlist given its title only\n",
    "        num_samples = 0\n",
    "        position=True\n",
    "        title = True\n",
    "\n",
    "    elif cat == 'cat2_1' or cat=='cat2_2':\n",
    "        print(cat,\"start\", end='')     \n",
    "        #Predict tracks for a playlist given its title and the first track\n",
    "        num_samples = 1\n",
    "        position = True\n",
    "        title = True\n",
    "\n",
    "    elif cat == 'cat3_1' or cat == 'cat3_2' or cat == 'cat3_3':\n",
    "        print(cat,\"start\", end='') \n",
    "        #Predict tracks for a playlist given its title and the first 5 tracks\n",
    "        num_samples = 5\n",
    "        position = True\n",
    "        title = True\n",
    "\n",
    "    elif cat == 'cat4':\n",
    "        print(cat,\"start\", end='') \n",
    "        #Predict tracks for a playlist given its first 5 tracks (no title)\n",
    "        num_samples = 5\n",
    "        position= False\n",
    "        title = False\n",
    "\n",
    "    elif cat == 'cat5':\n",
    "        print(cat,\"start\", end='') \n",
    "        #Predict tracks for a playlist given its title and the first 10 tracks\n",
    "        num_samples = 10\n",
    "        position=True\n",
    "        title = True\n",
    "\n",
    "    elif cat == 'cat6':\n",
    "        print(cat,\"start\", end='') \n",
    "        #Predict tracks for a playlist given its first ten tracks (no title)\n",
    "        num_samples = 10\n",
    "        position=True\n",
    "        title = False\n",
    "        \n",
    "    elif cat == 'cat7':\n",
    "        print(cat,\"start\", end='') \n",
    "        #Predict tracks for a playlist given its title and the first 25 tracks\n",
    "        num_samples = 25\n",
    "        title = True\n",
    "        position= True\n",
    "        \n",
    "    elif cat == 'cat8':\n",
    "        print(cat,\"start\", end='') \n",
    "        #Predict tracks for a playlist given its title and 25 random tracks\n",
    "        num_samples = 25\n",
    "        title= True\n",
    "        position = False\n",
    "        \n",
    "    elif cat == 'cat9':\n",
    "        print(cat,\"start\", end='') \n",
    "        #Predict tracks for a playlist given its title and the first 100 tracks\n",
    "        num_samples = 100\n",
    "        title= True\n",
    "        position= True\n",
    "        \n",
    "    elif cat == 'cat_10':\n",
    "        print(cat,\"start\", end='') \n",
    "        #Predict tracks for a playlist given its title and 100 random tracks\n",
    "        num_samples = 100\n",
    "        title = True\n",
    "        position = False \n",
    "    else:\n",
    "        raise(Exception,\"azz\")\n",
    "    \n",
    "    print(\"- build playlist sample\", end='')\n",
    "    df = build_playlists_df(pids, title, num_samples)   \n",
    "    playlists_challange = pd.concat([playlists_challange,df])\n",
    "    print(\"- interactions\", end='')\n",
    "    test_interactions = interactions[interactions['pid'].isin(pids)]\n",
    "    print(\"- interactions drop\", end='')\n",
    "    interactions = interactions.drop(test_interactions.index)\n",
    "    print(\"- extract songs\")\n",
    "    if position:       \n",
    "        df_sample = test_interactions[(test_interactions['pos'] >= 0) & (test_interactions['pos'] < num_samples)]\n",
    "        test_interactions = pd.concat([test_interactions, df_sample])\n",
    "        test_interactions = test_interactions.drop(df_sample.index) \n",
    "        df_eval_itr = pd.concat([df_eval_itr, test_interactions])         \n",
    "    else:\n",
    "        for pid in pids:\n",
    "            df = test_interactions[test_interactions['pid'] == pid]\n",
    "            df_sample = df.sample(n=num_samples)\n",
    "            test_interactions = pd.concat([test_interactions, df_sample])\n",
    "            df = df.drop(df_sample.index)\n",
    "            df_eval_itr = pd.concat([df_eval_itr, df])\n",
    "    "
   ]
  },
  {
   "cell_type": "code",
   "execution_count": 16,
   "metadata": {},
   "outputs": [
    {
     "name": "stdout",
     "output_type": "stream",
     "text": [
      "interactions merge\n",
      "reset index\n"
     ]
    }
   ],
   "source": [
    "print('interactions merge')\n",
    "tids = set(df_eval_itr['tid'])\n",
    "df = tracks[tracks['tid'].isin(tids)]\n",
    "df = df[['tid', 'arid']]\n",
    "df_eval_itr = pd.merge(df_eval_itr, df, on='tid')\n",
    "\n",
    "print(\"reset index\")\n",
    "playlists_challange = playlists_challange.reset_index(drop=True)\n",
    "test_interactions = test_interactions.reset_index(drop=True)\n",
    "df_eval_itr = df_eval_itr.reset_index(drop=True)\n",
    "interactions = interactions.reset_index(drop=True) \n"
   ]
  },
  {
   "cell_type": "markdown",
   "metadata": {},
   "source": [
    "# print files\n"
   ]
  },
  {
   "cell_type": "code",
   "execution_count": 17,
   "metadata": {},
   "outputs": [
    {
     "name": "stdout",
     "output_type": "stream",
     "text": [
      "              name     pid  num_tracks  num_samples  num_holdouts\n",
      "0             Funk   10000          16            0            16\n",
      "1              Rap  101077          15            0            15\n",
      "2  One Hit Wonders  101650          34            0            34\n",
      "3            Metal  101934          48            0            48\n",
      "4       The Voice   103915          10            0            10\n"
     ]
    }
   ],
   "source": [
    "print(playlists_challange.head())\n",
    "playlists_challange.to_csv(\"challange_playlists.csv\", sep='\\t')\n",
    "del(playlists_challange)"
   ]
  },
  {
   "cell_type": "code",
   "execution_count": 21,
   "metadata": {},
   "outputs": [
    {
     "name": "stdout",
     "output_type": "stream",
     "text": [
      "      pid   tid  pos  arid\n",
      "0   10000  9129    0   912\n",
      "1  608072  9129   19   912\n",
      "2  685211  9129   31   912\n",
      "3  887395  9129   13   912\n",
      "4   33973  9129   15   912\n"
     ]
    }
   ],
   "source": [
    "print(df_eval_itr.head())\n",
    "df_eval_itr.to_csv(\"evaluation_interactions.csv\", sep='\\t')\n",
    "del(df_eval_itr)"
   ]
  },
  {
   "cell_type": "code",
   "execution_count": null,
   "metadata": {},
   "outputs": [
    {
     "name": "stdout",
     "output_type": "stream",
     "text": [
      "   pid  tid  pos\n",
      "0    0    0    0\n",
      "1    0    1    1\n",
      "2    0    2    2\n",
      "3    0    3    3\n",
      "4    0    4    4\n"
     ]
    }
   ],
   "source": [
    "print(interactions.head())\n",
    "df_.to_csv(\"train_interactions.csv\", sep='\\t')\n",
    "del(interactions)"
   ]
  },
  {
   "cell_type": "code",
   "execution_count": 2,
   "metadata": {},
   "outputs": [
    {
     "ename": "NameError",
     "evalue": "name 'test_interactions' is not defined",
     "traceback": [
      "\u001b[1;31m---------------------------------------------------------------------------\u001b[0m",
      "\u001b[1;31mNameError\u001b[0m                                 Traceback (most recent call last)",
      "\u001b[1;32m<ipython-input-2-47fdd8f15217>\u001b[0m in \u001b[0;36m<module>\u001b[1;34m()\u001b[0m\n\u001b[1;32m----> 1\u001b[1;33m \u001b[0mtest_interactions\u001b[0m\u001b[1;33m\u001b[0m\u001b[0m\n\u001b[0m",
      "\u001b[1;31mNameError\u001b[0m: name 'test_interactions' is not defined"
     ],
     "output_type": "error"
    }
   ],
   "source": [
    "print(test_interactions.head())\n",
    "test_interactions.to_csv(\"test_interactions.csv\", sep='\\t')\n",
    "del(test_interactions)\n"
   ]
  },
  {
   "cell_type": "code",
   "execution_count": null,
   "metadata": {},
   "outputs": [],
   "source": []
  }
 ],
 "metadata": {
  "kernelspec": {
   "display_name": "Python 3",
   "language": "python",
   "name": "python3"
  },
  "language_info": {
   "codemirror_mode": {
    "name": "ipython",
    "version": 3
   },
   "file_extension": ".py",
   "mimetype": "text/x-python",
   "name": "python",
   "nbconvert_exporter": "python",
   "pygments_lexer": "ipython3",
   "version": "3.6.4"
  }
 },
 "nbformat": 4,
 "nbformat_minor": 2
}
