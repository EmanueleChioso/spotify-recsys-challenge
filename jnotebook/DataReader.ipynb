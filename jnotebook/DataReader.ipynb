{
 "cells": [
  {
   "cell_type": "code",
   "execution_count": 249,
   "metadata": {},
   "outputs": [],
   "source": [
    "import pandas as pd\n",
    "import numpy as np\n",
    "import scipy.sparse as sp\n",
    "\n",
    "class DataReaderRecSys2018:\n",
    "    \n",
    "    separator = '\\t'\n",
    "    dtype_int = np.int32\n",
    "    dtype_str = str\n",
    "    dtype_bool = np.bool_\n",
    "    interactions_file = 'interactions.csv' \n",
    "    tracks_file = 'tracks.csv' \n",
    "    playlists_file = 'playlists.csv'\n",
    "    \n",
    "    def __init__(self, evaluation = True, path_csv = '', verbose = True):\n",
    "        if verbose: print('IMPORTANT: all the returned matrices are in CSR format!!!')\n",
    "        self.evaluation = evaluation\n",
    "        self.path_csv = path_csv\n",
    "    \n",
    "    def getURM(self, keep_in_memory = False, verbose = True):\n",
    "        # if matrix already in memory return it\n",
    "        if hasattr(self, 'urm'):\n",
    "            if verbose: print('ICM retreived from memory\\t(%dx%d)'%(self.urm.shape))\n",
    "            return self.urm\n",
    "        # read file\n",
    "        try: \n",
    "            df = pd.read_csv(filepath_or_buffer=self.path_csv+self.interactions_file,sep=self.separator,header=0,\n",
    "                    usecols=['pid','tid','pos'],\n",
    "                    dtype={'pid':self.dtype_int,'tid':self.dtype_int,'pos':self.dtype_int})\n",
    "            if verbose: print('DF interactions readed')\n",
    "        except:\n",
    "            raise FileNotFoundError('Error reading interactions file, check path')\n",
    "        # collect data to build urm\n",
    "        playlists = df['pid'].values\n",
    "        tracks = df['tid'].values\n",
    "        assert(playlists.size == tracks.size)\n",
    "        n_interactions = tracks.size\n",
    "        n_playlists = playlists.max()+1 #index starts from 0\n",
    "        n_tracks = tracks.max()+1 #index starts from 0\n",
    "        # create urm\n",
    "        urm = sp.csr_matrix((np.ones(n_interactions), (playlists,tracks)), shape=(n_playlists, n_tracks), dtype=self.dtype_int)\n",
    "        if verbose: print('URM created (%dx%d) - %d interactions'%(n_playlists,n_tracks,n_interactions))\n",
    "        # save in memory if needed\n",
    "        if keep_in_memory:\n",
    "            self.urm =  urm\n",
    "            if verbose: print('URM saved in memory')\n",
    "        return urm\n",
    "    \n",
    "    \n",
    "    def getICM(self, arid = False, alid = False, keep_in_memory = False, verbose = True):\n",
    "        # if no feature selected\n",
    "        if not arid and not alid: \n",
    "            raise ValueError('ERROR: no feature selected in ICM!!!')\n",
    "        # if matrix already in memory return it\n",
    "        if hasattr(self,'icm') and arid==self.flag_icm_arid and alid == self.flag_icm_alid:\n",
    "            if verbose: print('ICM retreived from memory\\t(%dx%d)'%(self.icm.shape))\n",
    "            return self.icm\n",
    "        # read file\n",
    "        try: \n",
    "            df = pd.read_csv(filepath_or_buffer=self.path_csv+self.tracks_file,sep=self.separator,header=0,\n",
    "                    usecols=['tid','arid','alid'],\n",
    "                    dtype={'tid':self.dtype_int,'arid':self.dtype_int,'alid':self.dtype_int})\n",
    "            if verbose: print('DF tracks readed')\n",
    "        except:\n",
    "            raise FileNotFoundError('Error reading tracks file, check path')\n",
    "        # start building icm\n",
    "        n_tracks = df['tid'].max() + 1 #index starts from 0\n",
    "        tracks = df['tid'].values\n",
    "        if arid:\n",
    "            artists = df['arid'].values\n",
    "            n_artists = artists.max() + 1 #index starts from 0\n",
    "            # create partial icm artists\n",
    "            icm_ar = sp.csr_matrix((np.ones(n_tracks), (tracks,artists)), shape=(n_tracks,n_artists), dtype=self.dtype_int)\n",
    "            if verbose: print('ICM artists created \\t(%dx%d)'%(icm_ar.shape))\n",
    "        if alid:\n",
    "            albums = df['alid'].values\n",
    "            n_albums = albums.max() + 1 #index starts from 0\n",
    "            # create partial icm artists\n",
    "            icm_al = sp.csr_matrix((np.ones(n_tracks), (tracks,albums)), shape=(n_tracks,n_albums), dtype=self.dtype_int)\n",
    "            if verbose: print('ICM albums created \\t(%dx%d)'%(icm_al.shape))\n",
    "        if arid and alid:\n",
    "            icm = sp.hstack([icm_ar,icm_al])\n",
    "            if verbose: print('ICM total created \\t(%dx%d)'%(icm.shape))\n",
    "        elif arid: icm = icm_ar\n",
    "        elif alid: icm = icm_al\n",
    "        #save in memory if needed\n",
    "        if keep_in_memory:\n",
    "            self.icm = icm\n",
    "            self.flag_icm_arid = arid\n",
    "            self.flag_icm_alid = alid\n",
    "            if verbose: print('ICM saved in memory')\n",
    "        return icm\n",
    "         \n",
    "    def getTracksInfo(self, name = False, duration = False, keep_in_memory = False, verbose = True):\n",
    "        # if info already in memory return it\n",
    "        if hasattr(self, 'tracks_info'):\n",
    "            if verbose: print('Tracks info retreived from memory')\n",
    "            return self.tracks_info\n",
    "        # read file\n",
    "        try: \n",
    "            df = pd.read_csv(filepath_or_buffer=self.path_csv+self.tracks_file,sep=self.separator,header=0,\n",
    "                    usecols=['tid','track_name','duration_ms'],\n",
    "                    dtype={'tid':self.dtype_int,'track_name':self.dtype_str,'duration_ms':self.dtype_int})\n",
    "            if verbose: print('DF tracks readed')\n",
    "        except:\n",
    "            raise FileNotFoundError('Error reading tracks file, check path')\n",
    "        # building info\n",
    "        t_info = [df['tid'].values]\n",
    "        if name: t_info.append(df['track_name'].values)\n",
    "        if duration: t_info.append(df['duration_ms'].values)\n",
    "        t_info = np.array(t_info).T\n",
    "        # save in memory if needed\n",
    "        if keep_in_memory:\n",
    "            self.tracks_info = t_info\n",
    "            if verbose: print('Tracks info saved in memory')\n",
    "        return t_info\n",
    "          \n",
    "    def getPlaylistsInfo(self, name = False, description = False, num_followers = False,collaborative = False,\n",
    "                         num_albums = False, num_artists = False,modified_at = False, num_edits = False, duration_ms = False,\n",
    "                         keep_in_memory = False, verbose = True):\n",
    "        # if info already in memory return it\n",
    "        if hasattr(self, 'df_playlists_info'):\n",
    "            if verbose: print('Playlists info retreived from memory')\n",
    "            df = self.df_playlists_info\n",
    "        \n",
    "        else:\n",
    "            # read file\n",
    "            #name\tcollaborative\tpid\tmodified_at\t\n",
    "            #num_albums\tnum_tracks\tnum_followers\tnum_edits\tduration_ms\tnum_artists\tdescription\n",
    "            try: \n",
    "                df = pd.read_csv(filepath_or_buffer=self.path_csv+self.playlists_file,sep=self.separator,header=0,\n",
    "                        usecols=['pid','name','description','num_followers','collaborative',\n",
    "                                 'num_albums','num_artists','modified_at','num_edits','duration_ms'],\n",
    "                        dtype={'pid':self.dtype_int,'name':self.dtype_str,'description':self.dtype_str,\n",
    "                               'num_followers':self.dtype_int,'collaborative':self.dtype_bool,'num_albums':self.dtype_int,\n",
    "                               'num_artists':self.dtype_int,'modified_at':self.dtype_int,'num_edits':self.dtype_int,\n",
    "                               'duration_ms':self.dtype_int})\n",
    "                if verbose: print('DF playlsits readed')\n",
    "            except:\n",
    "                raise FileNotFoundError('Error reading playlists file, check path')\n",
    "        # building info\n",
    "        i = 0\n",
    "        p_info = [df['pid'].values]; order = str(i)+'-pid'; i+=1\n",
    "        if name: p_info.append(df['name'].values); order += ', ' + str(i)+'-name'; i+=1\n",
    "        if description: p_info.append(df['description'].values); order += ', ' + str(i)+'-description'; i+=1\n",
    "        if num_followers: p_info.append(df['num_followers'].values); order += ', ' + str(i)+'-num_followers'; i+=1 \n",
    "        if collaborative: p_info.append(df['collaborative'].values); order += ', ' + str(i)+'-collaborative'; i+=1\n",
    "        if num_albums: p_info.append(df['num_albums'].values); order += ', ' + str(i)+'-albums'; i+=1\n",
    "        if num_artists: p_info.append(df['num_artists'].values); order += ', ' + str(i)+'-num_artists'; i+=1\n",
    "        if modified_at: p_info.append(df['modified_at'].values); order += ', ' + str(i)+'-modified_at'; i+=1 \n",
    "        if num_edits: p_info.append(df['num_edits'].values); order += ', ' + str(i)+'-num_edits'; i+=1\n",
    "        if duration_ms: p_info.append(df['duration_ms'].values); order += ', ' + str(i)+'-duration_ms'; i+=1 \n",
    "        p_info = np.array(p_info).T\n",
    "        if verbose: print('Index order: '+ order)\n",
    "        if keep_in_memory and not hasattr(self, 'df_playlists_info'):\n",
    "            self.df_playlists_info = df\n",
    "            if verbose: print('Playlists info saved in memory')\n",
    "        return p_info\n",
    "    \n",
    "    def freeMemoryURM(self):\n",
    "        del(self.urm)\n",
    "    \n",
    "    def freeMemoryICM(self):\n",
    "        del(self.icm)\n",
    "    \n",
    "    def freeMemoryICM(self):\n",
    "        del(self.tracks_info)\n",
    "    \n",
    "    def getArtistInfo(self):\n",
    "        pass\n",
    "    \n",
    "    def getAlbumsInfo(self):\n",
    "        pass\n",
    "    \n",
    "    \n",
    "    \n",
    "    def info(self):\n",
    "        print('!!! all the returned matrices are in CSR format !!!')\n",
    "        print('!!! URM, playlist contains dupilcate tracks (so cell value != 1), adjust this value in preprocessing !!!')"
   ]
  },
  {
   "cell_type": "code",
   "execution_count": 250,
   "metadata": {},
   "outputs": [
    {
     "name": "stdout",
     "output_type": "stream",
     "text": [
      "IMPORTANT: all the returned matrices are in CSR format!!!\n"
     ]
    }
   ],
   "source": [
    "dr = DataReaderRecSys2018(evaluation=True, path_csv = '', verbose= 'True')"
   ]
  },
  {
   "cell_type": "code",
   "execution_count": 247,
   "metadata": {},
   "outputs": [
    {
     "name": "stdout",
     "output_type": "stream",
     "text": [
      "DF playlsits readed\n",
      "Index order: 0-pid, 1-name, 2-description\n",
      "Playlists info saved in memory\n"
     ]
    }
   ],
   "source": [
    "p_info = dr.getPlaylistsInfo(name = True, description = True, keep_in_memory= True)"
   ]
  },
  {
   "cell_type": "code",
   "execution_count": 248,
   "metadata": {},
   "outputs": [
    {
     "data": {
      "text/plain": [
       "array([0, 'Throwbacks', nan], dtype=object)"
      ]
     },
     "execution_count": 248,
     "metadata": {},
     "output_type": "execute_result"
    }
   ],
   "source": [
    "p_info[0]"
   ]
  },
  {
   "cell_type": "code",
   "execution_count": 47,
   "metadata": {},
   "outputs": [
    {
     "name": "stdout",
     "output_type": "stream",
     "text": [
      "DF tracks readed\n",
      "Tracks info saved in memory\n"
     ]
    }
   ],
   "source": [
    "t_info = dr.getTracksInfo(name = True, duration= True, keep_in_memory=True)"
   ]
  },
  {
   "cell_type": "code",
   "execution_count": 68,
   "metadata": {},
   "outputs": [
    {
     "name": "stdout",
     "output_type": "stream",
     "text": [
      "DF tracks readed\n",
      "ICM artists created \t(2262292x295860)\n",
      "ICM albums created \t(2262292x734684)\n",
      "ICM total created \t(2262292x1030544)\n",
      "ICM kept in memory\n"
     ]
    }
   ],
   "source": [
    "icm = dr.getICM(arid=True,alid=True, keep_in_memory= True)"
   ]
  },
  {
   "cell_type": "code",
   "execution_count": 4,
   "metadata": {},
   "outputs": [],
   "source": [
    "df_playlists = pd.read_csv(\"playlists.csv\", delimiter='\\t')\n",
    "df_playlists.drop(['num_tracks.1'], axis=1, inplace=True)\n",
    "df_playlists.to_csv(\"playlists2.csv\", sep='\\t', index=False)"
   ]
  }
 ],
 "metadata": {
  "kernelspec": {
   "display_name": "Python 3",
   "language": "python",
   "name": "python3"
  },
  "language_info": {
   "codemirror_mode": {
    "name": "ipython",
    "version": 3
   },
   "file_extension": ".py",
   "mimetype": "text/x-python",
   "name": "python",
   "nbconvert_exporter": "python",
   "pygments_lexer": "ipython3",
   "version": "3.5.3"
  }
 },
 "nbformat": 4,
 "nbformat_minor": 2
}
