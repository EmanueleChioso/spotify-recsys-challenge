{
 "cells": [
  {
   "cell_type": "markdown",
   "metadata": {},
   "source": [
    "# association rules e fpgrowth"
   ]
  },
  {
   "cell_type": "code",
   "execution_count": 1,
   "metadata": {},
   "outputs": [],
   "source": [
    "import fim\n",
    "from fim import fpgrowth\n",
    "from tqdm import tqdm\n",
    "import numpy as np\n",
    "import scipy.sparse as sps\n",
    "import numpy as np\n",
    "import scipy.sparse as sps\n",
    "from collections import defaultdict\n",
    "from fim import apriori, fpgrowth, fim, arules\n",
    "from utils.post_processing import rec_list_to_eurm,eurm_to_recommendation_list,eurm_remove_seed\n",
    "from utils.evaluator import Evaluator\n",
    "from utils.datareader import Datareader\n",
    "from utils.definitions import *\n",
    "from multiprocessing import Process, Pool\n"
   ]
  },
  {
   "cell_type": "code",
   "execution_count": 2,
   "metadata": {},
   "outputs": [],
   "source": [
    "\n",
    "def build_test_dict(dr):\n",
    "    print(\"building test dict\", end=\" \")\n",
    "    test_interactions_df = dr.get_df_test_interactions()\n",
    "    test_interactions_df.sort_values(['pos'], ascending=True)\n",
    "    test_playlists_df = dr.get_df_test_playlists()\n",
    "    test_playlists = test_playlists_df['pid'].values\n",
    "\n",
    "    # A list of list [pos, tid] for each playlist sorted by pos\n",
    "    test_known_tracks = test_interactions_df.groupby(['pid'])[['pos', 'tid']].apply(lambda x: x.values.tolist())\n",
    "    for s in test_known_tracks:\n",
    "        s = s.sort(key=lambda x: x[0])\n",
    "    print(\"> done\")\n",
    "    return test_known_tracks\n",
    "\n",
    "def urm_to_sequences_from_one_target(urm_pos, urm_pos_csc, song_target, list_of_list_of_lists=False):\n",
    "    not_empty_lines = urm_pos_csc[:,song_target].nonzero()[0] \n",
    "    filtered = urm_pos[not_empty_lines]\n",
    "    sequences_spm = []\n",
    "    for row in range(filtered.shape[0]):\n",
    "        to_append = list(filtered.indices[filtered.indptr[row]:filtered.indptr[row + 1]]\n",
    "                             [np.argsort(filtered.data[filtered.indptr[row]:filtered.indptr[row + 1]])])\n",
    "        if list_of_list_of_lists:\n",
    "            sequences_spm.append( [[i] for i in to_append])\n",
    "        else:\n",
    "            sequences_spm.append(to_append)\n",
    "    return sequences_spm\n",
    "\n",
    "def fast_argpart(arr):\n",
    "    if len(arr)>500:\n",
    "        max_n = 500\n",
    "    else: \n",
    "        max_n = len(arr)\n",
    "    return np.argpartition(arr, -max_n)[-max_n:]\n",
    "    "
   ]
  },
  {
   "cell_type": "code",
   "execution_count": null,
   "metadata": {},
   "outputs": [],
   "source": []
  },
  {
   "cell_type": "code",
   "execution_count": null,
   "metadata": {},
   "outputs": [],
   "source": []
  },
  {
   "cell_type": "markdown",
   "metadata": {},
   "source": [
    "# datie roba varia"
   ]
  },
  {
   "cell_type": "code",
   "execution_count": 3,
   "metadata": {},
   "outputs": [
    {
     "name": "stderr",
     "output_type": "stream",
     "text": [
      "/home/ubuntu/Spotify-Challenge/utils/evaluator.py:28: FutureWarning: Method .as_matrix will be removed in a future version. Use .values instead.\n",
      "  keys = list(self.tracks['tid'].as_matrix())\n",
      "/home/ubuntu/Spotify-Challenge/utils/evaluator.py:29: FutureWarning: Method .as_matrix will be removed in a future version. Use .values instead.\n",
      "  values = list(self.tracks['arid'].as_matrix())\n"
     ]
    }
   ],
   "source": [
    "dr = Datareader(mode='offline', verbose=False, only_load=True)\n",
    "ev = Evaluator(dr)"
   ]
  },
  {
   "cell_type": "code",
   "execution_count": 4,
   "metadata": {},
   "outputs": [
    {
     "name": "stdout",
     "output_type": "stream",
     "text": [
      "building test dict > done\n"
     ]
    }
   ],
   "source": [
    "test_known_tracks = build_test_dict(dr)\n",
    "test_pids_cat2 = dr.get_test_pids(cat=2)"
   ]
  },
  {
   "cell_type": "code",
   "execution_count": 5,
   "metadata": {},
   "outputs": [],
   "source": [
    "urm_pos = dr.get_position_matrix(position_type='last')\n",
    "urm_pos_csc = sps.csc_matrix(urm_pos)"
   ]
  },
  {
   "cell_type": "markdown",
   "metadata": {},
   "source": [
    "# creazione dei file. lenta e da non rifare "
   ]
  },
  {
   "cell_type": "code",
   "execution_count": 6,
   "metadata": {},
   "outputs": [],
   "source": [
    "###### NON FARE QUESTA CELLA\n",
    "# for i in tqdm(range(1700,1800)):\n",
    "\n",
    "#     song_target = test_known_tracks[test_pids_cat2[i-1000]][0][1]\n",
    "#     not_empty_lines = urm_pos_csc[:,song_target].nonzero()[0] \n",
    "#     filtered = urm_pos[not_empty_lines]\n",
    "#     sequences_spm = []\n",
    "#     for row in range(filtered.shape[0]):\n",
    "#         to_append = list(filtered.indices[filtered.indptr[row]:filtered.indptr[row + 1]]\n",
    "#                              [np.argsort(filtered.data[filtered.indptr[row]:filtered.indptr[row + 1]])])\n",
    "#         sequences_spm.append(to_append)\n",
    "#     save_obj(name=\"sequences_cat1_\"+str(i), obj=sequences_spm, path=ROOT_DIR+'/data/cat1/'  )"
   ]
  },
  {
   "cell_type": "markdown",
   "metadata": {},
   "source": [
    "# association rules versione normale\n"
   ]
  },
  {
   "cell_type": "code",
   "execution_count": 7,
   "metadata": {},
   "outputs": [],
   "source": [
    "costante_di_popolarita = 15"
   ]
  },
  {
   "cell_type": "code",
   "execution_count": 8,
   "metadata": {},
   "outputs": [],
   "source": [
    "# pred_lil = sps.lil_matrix((10000, 2262292))\n",
    "# for i in tqdm(range(1000,1070)):\n",
    "#     sequences = load_obj(path=ROOT_DIR+'/data/cat1/', name='sequences_cat1_'+str(i))\n",
    "#     popularity = len(sequences)\n",
    "#     preds_line = np.zeros(2262292)\n",
    "    \n",
    "#     for seq in fpgrowth(sequences,supp= -popularity/costante_di_popolarita, target='m'):\n",
    "#         for song in seq[0]:\n",
    "#             preds_line[song]+= seq[1]*(len(seq[0])-1)*(len(seq[0])-1)\n",
    "#     vals = fast_argpart(preds_line)\n",
    "    \n",
    "#     pred_lil[i,vals] = preds_line[vals]\n"
   ]
  },
  {
   "cell_type": "code",
   "execution_count": 9,
   "metadata": {},
   "outputs": [],
   "source": [
    "# eurm = sps.csr_matrix(pred_lil)\n",
    "# eurm = eurm_remove_seed(eurm , dr )\n",
    "# rec_list = eurm_to_recommendation_list(eurm)\n",
    "# ev.evaluate(rec_list, \"cat2_spm_max\",verbose=True, do_plot=True, show_plot=True, save=True )"
   ]
  },
  {
   "cell_type": "code",
   "execution_count": null,
   "metadata": {},
   "outputs": [],
   "source": [
    "\n"
   ]
  },
  {
   "cell_type": "code",
   "execution_count": null,
   "metadata": {},
   "outputs": [],
   "source": []
  },
  {
   "cell_type": "markdown",
   "metadata": {},
   "source": [
    "# parallel association rule. "
   ]
  },
  {
   "cell_type": "code",
   "execution_count": 8,
   "metadata": {},
   "outputs": [],
   "source": [
    "import gc\n",
    "\n",
    "target = 'm'\n",
    "costante_di_pop = 15"
   ]
  },
  {
   "cell_type": "code",
   "execution_count": 9,
   "metadata": {},
   "outputs": [],
   "source": [
    "def association_rule(i):\n",
    "    sequences = load_obj(path=ROOT_DIR+'/data/cat1/', name='sequences_cat1_'+str(i))\n",
    "    popularity_iniziale = len(sequences)\n",
    "    preds_line = np.zeros(2262292)\n",
    "    \n",
    "    if popularity_iniziale>2000:\n",
    "        mean_len = 0 \n",
    "        for seq in sequences:\n",
    "            mean_len += len(seq)\n",
    "        mean_len= mean_len/len(sequences)\n",
    "        \n",
    "        count = 0\n",
    "        for j in range(len(sequences)):\n",
    "            if len(sequences[j]) > (mean_len*2) or len(sequences[j]) <(mean_len/2):\n",
    "                sequences[j]=[]\n",
    "                count+=1\n",
    "        popularity = popularity_iniziale-count\n",
    "        \n",
    "        print(i,\"iniziale\"popularity_iniziale,\"new_pop\",popularity,\"rimosse\",count,\" mean_l\",mean_len,\"num_seq\",len(sequences))\n",
    "    \n",
    "        if popularity>2000:\n",
    "            mean_len = 0 \n",
    "            for seq in sequences:\n",
    "                mean_len += len(seq)\n",
    "            mean_len= mean_len/len(sequences)\n",
    "\n",
    "            count = 0\n",
    "            for j in range(len(sequences)):\n",
    "                if len(sequences[j]) > (mean_len*2) or len(sequences[j]) <(mean_len/2):\n",
    "                    sequences[j]=[]\n",
    "                    count+=1\n",
    "            popularity-=count\n",
    "\n",
    "            print(i,popularity_iniziale,\"new_pop\",popularity,\"rimosse\",count,\" mean_l\",mean_len,\"num_seq\",len(sequences))\n",
    "\n",
    "        if popularity>2000:\n",
    "            mean_len = 0 \n",
    "            for seq in sequences:\n",
    "                mean_len += len(seq)\n",
    "            mean_len= mean_len/len(sequences)\n",
    "\n",
    "            count = 0\n",
    "            for j in range(len(sequences)):\n",
    "                if len(sequences[j]) > (mean_len*2) or len(sequences[j]) <(mean_len/2):\n",
    "                    sequences[j]=[]\n",
    "                    count+=1\n",
    "            popularity-=count\n",
    "            print(i,popularity_iniziale,\"new_pop\",popularity,\"rimosse\",count,\" mean_l\",mean_len,\"num_seq\",len(sequences))\n",
    "    \n",
    "\n",
    "#     else:\n",
    "#         if popularity>50000:\n",
    "#             const = costante_di_pop*10\n",
    "#         elif popularity>30000:\n",
    "#             const = costante_di_pop*5\n",
    "#         elif popularity>20000:\n",
    "#             const = costante_di_pop*3\n",
    "#         else:\n",
    "#             const = costante_di_pop*2\n",
    "    sequences = np.array(sequences)\n",
    "    sequences = sequences[len(sequences)>0]\n",
    "    const = costante_di_pop\n",
    "\n",
    "    sequences = fpgrowth(sequences, supp= -popularity/const, target=target)\n",
    "    \n",
    "    \n",
    "    for seq in sequences:\n",
    "        for song in seq[0]:\n",
    "            preds_line[song]+= seq[1]*(len(seq[0])-1)*(len(seq[0])-1)\n",
    "    indices = fast_argpart(preds_line)\n",
    "    \n",
    "    preds_line_lil = sps.lil_matrix((1, 2262292))\n",
    "    vals = fast_argpart(preds_line)\n",
    "    preds_line_lil[0,vals] = preds_line[vals]\n",
    "    \n",
    "    del sequences, indices, preds_line, vals, \n",
    "    gc.collect()\n",
    "    print(\"nnz\",preds_line_lil.nnz)\n",
    "    \n",
    "    return preds_line_lil\n"
   ]
  },
  {
   "cell_type": "code",
   "execution_count": 10,
   "metadata": {
    "scrolled": true
   },
   "outputs": [
    {
     "name": "stdout",
     "output_type": "stream",
     "text": [
      "1125 2241 new_pop 956 rimosse 1285  mean_l 97.71396697902722 num_seq 2241\n",
      "1000 6826 new_pop 3082 rimosse 3744  mean_l 109.39173747436273 num_seq 6826\n",
      "1000 6826 new_pop -662 rimosse 3744  mean_l 74.28713741576325 num_seq 6826\n",
      "nnz 199\n",
      "nnz 0\n"
     ]
    },
    {
     "ename": "UnboundLocalError",
     "evalue": "local variable 'popularity' referenced before assignment",
     "traceback": [
      "\u001b[0;31m---------------------------------------------------------------------------\u001b[0m",
      "\u001b[0;31mRemoteTraceback\u001b[0m                           Traceback (most recent call last)",
      "\u001b[0;31mRemoteTraceback\u001b[0m: \n\"\"\"\nTraceback (most recent call last):\n  File \"/usr/lib/python3.5/multiprocessing/pool.py\", line 119, in worker\n    result = (True, func(*args, **kwds))\n  File \"/usr/lib/python3.5/multiprocessing/pool.py\", line 44, in mapstar\n    return list(map(*args))\n  File \"<ipython-input-9-c99fabf99ea6>\", line 67, in association_rule\n    sequences = fpgrowth(sequences, supp= -popularity/const, target=target)\nUnboundLocalError: local variable 'popularity' referenced before assignment\n\"\"\"",
      "\nThe above exception was the direct cause of the following exception:\n",
      "\u001b[0;31mUnboundLocalError\u001b[0m                         Traceback (most recent call last)",
      "\u001b[0;32m<ipython-input-10-8a757fdde72f>\u001b[0m in \u001b[0;36m<module>\u001b[0;34m()\u001b[0m\n\u001b[1;32m      1\u001b[0m \u001b[0mp\u001b[0m \u001b[0;34m=\u001b[0m \u001b[0mPool\u001b[0m\u001b[0;34m(\u001b[0m\u001b[0;36m2\u001b[0m\u001b[0;34m)\u001b[0m\u001b[0;34m\u001b[0m\u001b[0m\n\u001b[1;32m      2\u001b[0m \u001b[0mpred_lil\u001b[0m \u001b[0;34m=\u001b[0m \u001b[0msps\u001b[0m\u001b[0;34m.\u001b[0m\u001b[0mlil_matrix\u001b[0m\u001b[0;34m(\u001b[0m\u001b[0;34m(\u001b[0m\u001b[0;36m10000\u001b[0m\u001b[0;34m,\u001b[0m \u001b[0;36m2262292\u001b[0m\u001b[0;34m)\u001b[0m\u001b[0;34m)\u001b[0m\u001b[0;34m\u001b[0m\u001b[0m\n\u001b[0;32m----> 3\u001b[0;31m \u001b[0mroba\u001b[0m \u001b[0;34m=\u001b[0m \u001b[0mp\u001b[0m\u001b[0;34m.\u001b[0m\u001b[0mmap\u001b[0m\u001b[0;34m(\u001b[0m\u001b[0massociation_rule\u001b[0m\u001b[0;34m,\u001b[0m \u001b[0;34m[\u001b[0m\u001b[0mx\u001b[0m\u001b[0;34m+\u001b[0m\u001b[0;36m1000\u001b[0m \u001b[0;32mfor\u001b[0m \u001b[0mx\u001b[0m \u001b[0;32min\u001b[0m \u001b[0mrange\u001b[0m\u001b[0;34m(\u001b[0m\u001b[0;36m1000\u001b[0m\u001b[0;34m)\u001b[0m\u001b[0;34m]\u001b[0m\u001b[0;34m)\u001b[0m\u001b[0;34m\u001b[0m\u001b[0m\n\u001b[0m",
      "\u001b[0;32m/usr/lib/python3.5/multiprocessing/pool.py\u001b[0m in \u001b[0;36mmap\u001b[0;34m(self, func, iterable, chunksize)\u001b[0m\n\u001b[1;32m    258\u001b[0m         \u001b[0;32min\u001b[0m \u001b[0ma\u001b[0m \u001b[0mlist\u001b[0m \u001b[0mthat\u001b[0m \u001b[0;32mis\u001b[0m \u001b[0mreturned\u001b[0m\u001b[0;34m.\u001b[0m\u001b[0;34m\u001b[0m\u001b[0m\n\u001b[1;32m    259\u001b[0m         '''\n\u001b[0;32m--> 260\u001b[0;31m         \u001b[0;32mreturn\u001b[0m \u001b[0mself\u001b[0m\u001b[0;34m.\u001b[0m\u001b[0m_map_async\u001b[0m\u001b[0;34m(\u001b[0m\u001b[0mfunc\u001b[0m\u001b[0;34m,\u001b[0m \u001b[0miterable\u001b[0m\u001b[0;34m,\u001b[0m \u001b[0mmapstar\u001b[0m\u001b[0;34m,\u001b[0m \u001b[0mchunksize\u001b[0m\u001b[0;34m)\u001b[0m\u001b[0;34m.\u001b[0m\u001b[0mget\u001b[0m\u001b[0;34m(\u001b[0m\u001b[0;34m)\u001b[0m\u001b[0;34m\u001b[0m\u001b[0m\n\u001b[0m\u001b[1;32m    261\u001b[0m \u001b[0;34m\u001b[0m\u001b[0m\n\u001b[1;32m    262\u001b[0m     \u001b[0;32mdef\u001b[0m \u001b[0mstarmap\u001b[0m\u001b[0;34m(\u001b[0m\u001b[0mself\u001b[0m\u001b[0;34m,\u001b[0m \u001b[0mfunc\u001b[0m\u001b[0;34m,\u001b[0m \u001b[0miterable\u001b[0m\u001b[0;34m,\u001b[0m \u001b[0mchunksize\u001b[0m\u001b[0;34m=\u001b[0m\u001b[0;32mNone\u001b[0m\u001b[0;34m)\u001b[0m\u001b[0;34m:\u001b[0m\u001b[0;34m\u001b[0m\u001b[0m\n",
      "\u001b[0;32m/usr/lib/python3.5/multiprocessing/pool.py\u001b[0m in \u001b[0;36mget\u001b[0;34m(self, timeout)\u001b[0m\n\u001b[1;32m    606\u001b[0m             \u001b[0;32mreturn\u001b[0m \u001b[0mself\u001b[0m\u001b[0;34m.\u001b[0m\u001b[0m_value\u001b[0m\u001b[0;34m\u001b[0m\u001b[0m\n\u001b[1;32m    607\u001b[0m         \u001b[0;32melse\u001b[0m\u001b[0;34m:\u001b[0m\u001b[0;34m\u001b[0m\u001b[0m\n\u001b[0;32m--> 608\u001b[0;31m             \u001b[0;32mraise\u001b[0m \u001b[0mself\u001b[0m\u001b[0;34m.\u001b[0m\u001b[0m_value\u001b[0m\u001b[0;34m\u001b[0m\u001b[0m\n\u001b[0m\u001b[1;32m    609\u001b[0m \u001b[0;34m\u001b[0m\u001b[0m\n\u001b[1;32m    610\u001b[0m     \u001b[0;32mdef\u001b[0m \u001b[0m_set\u001b[0m\u001b[0;34m(\u001b[0m\u001b[0mself\u001b[0m\u001b[0;34m,\u001b[0m \u001b[0mi\u001b[0m\u001b[0;34m,\u001b[0m \u001b[0mobj\u001b[0m\u001b[0;34m)\u001b[0m\u001b[0;34m:\u001b[0m\u001b[0;34m\u001b[0m\u001b[0m\n",
      "\u001b[0;31mUnboundLocalError\u001b[0m: local variable 'popularity' referenced before assignment"
     ],
     "output_type": "error"
    },
    {
     "name": "stdout",
     "output_type": "stream",
     "text": [
      "1250 6856 new_pop 2995 rimosse 3861  mean_l 97.60822637106185 num_seq 6856\n",
      "1250 6856 new_pop -866 rimosse 3861  mean_l 67.74868728121353 num_seq 6856\n",
      "nnz 0\n",
      "1375 3910 new_pop 1677 rimosse 2233  mean_l 93.30358056265985 num_seq 3910\n",
      "1126 28713 new_pop 12712 rimosse 16001  mean_l 101.44133319402361 num_seq 28713\n",
      "1126 28713 new_pop -3289 rimosse 16001  mean_l 70.38578344303974 num_seq 28713\n",
      "nnz 190\n",
      "1625 11619 new_pop 4843 rimosse 6776  mean_l 88.71667096996299 num_seq 11619\n",
      "1625 11619 new_pop -1933 rimosse 6776  mean_l 61.2570789224546 num_seq 11619\n",
      "nnz 0\n",
      "nnz 0\n",
      "1127 5594 new_pop 2414 rimosse 3180  mean_l 96.07883446549874 num_seq 5594\n",
      "1127 5594 new_pop -766 rimosse 3180  mean_l 66.47604576331784 num_seq 5594\n",
      "nnz 0\n",
      "1128 3450 new_pop 1511 rimosse 1939  mean_l 95.64637681159421 num_seq 3450\n",
      "nnz 170\n",
      "1750 39573 new_pop 17427 rimosse 22146  mean_l 98.76554721653653 num_seq 39573\n",
      "1750 39573 new_pop -4719 rimosse 22146  mean_l 68.53695701614737 num_seq 39573\n",
      "nnz 0\n",
      "1751 18700 new_pop 8001 rimosse 10699  mean_l 93.86780748663102 num_seq 18700\n",
      "1751 18700 new_pop -2698 rimosse 10699  mean_l 64.77459893048129 num_seq 18700\n",
      "nnz 0\n",
      "1752 3042 new_pop 1358 rimosse 1684  mean_l 109.11669953977646 num_seq 3042\n",
      "nnz 436\n"
     ]
    }
   ],
   "source": [
    "p = Pool(2)\n",
    "pred_lil = sps.lil_matrix((10000, 2262292))\n",
    "roba = p.map(association_rule, [x+1000 for x in range(1000)])\n"
   ]
  },
  {
   "cell_type": "code",
   "execution_count": 28,
   "metadata": {},
   "outputs": [],
   "source": [
    "pred_lil = sps.lil_matrix((10000, 2262292))\n",
    "for prog, preds in enumerate(roba):\n",
    "    pred_lil[prog+1000]= preds"
   ]
  },
  {
   "cell_type": "code",
   "execution_count": 29,
   "metadata": {},
   "outputs": [
    {
     "data": {
      "text/plain": [
       "<10000x2262292 sparse matrix of type '<class 'numpy.float64'>'\n",
       "\twith 5786 stored elements in LInked List format>"
      ]
     },
     "execution_count": 29,
     "metadata": {},
     "output_type": "execute_result"
    }
   ],
   "source": [
    "pred_lil"
   ]
  },
  {
   "cell_type": "code",
   "execution_count": 30,
   "metadata": {},
   "outputs": [
    {
     "name": "stderr",
     "output_type": "stream",
     "text": [
      "Converting eurm:   2%|▏         | 214/10000 [00:00<00:04, 2138.52it/s]"
     ]
    },
    {
     "name": "stdout",
     "output_type": "stream",
     "text": [
      "[ WARNING! Datareader is None. It was not possible to remove seeds while converting the eurm ]\n"
     ]
    },
    {
     "name": "stderr",
     "output_type": "stream",
     "text": [
      "Converting eurm: 100%|██████████| 10000/10000 [00:02<00:00, 3753.86it/s]\n",
      "Evaluating: 100%|██████████| 10000/10000 [00:16<00:00, 616.85it/s]"
     ]
    },
    {
     "name": "stdout",
     "output_type": "stream",
     "text": [
      "       clicks_artists  clicks_tracks  ndcg_artists  ndcg_tracks  \\\n",
      "cat1          51.0000        51.0000      0.000000     0.000000   \n",
      "cat2          49.5860        49.7590      0.009650     0.005837   \n",
      "cat3          51.0000        51.0000      0.000000     0.000000   \n",
      "cat4          51.0000        51.0000      0.000000     0.000000   \n",
      "cat5          51.0000        51.0000      0.000000     0.000000   \n",
      "cat6          51.0000        51.0000      0.000000     0.000000   \n",
      "cat7          51.0000        51.0000      0.000000     0.000000   \n",
      "cat8          51.0000        51.0000      0.000000     0.000000   \n",
      "cat9          51.0000        51.0000      0.000000     0.000000   \n",
      "cat10         51.0000        51.0000      0.000000     0.000000   \n",
      "mean          50.8586        50.8759      0.000965     0.000584   \n",
      "\n",
      "       precision_artists  precision_tracks  \n",
      "cat1            0.000000          0.000000  \n",
      "cat2            0.000503          0.003196  \n",
      "cat3            0.000000          0.000000  \n",
      "cat4            0.000000          0.000000  \n",
      "cat5            0.000000          0.000000  \n",
      "cat6            0.000000          0.000000  \n",
      "cat7            0.000000          0.000000  \n",
      "cat8            0.000000          0.000000  \n",
      "cat9            0.000000          0.000000  \n",
      "cat10           0.000000          0.000000  \n",
      "mean            0.000050          0.000320  \n"
     ]
    },
    {
     "name": "stderr",
     "output_type": "stream",
     "text": [
      "\n",
      "/home/ubuntu/Spotify-Challenge/utils/evaluator.py:190: FutureWarning: Method .as_matrix will be removed in a future version. Use .values instead.\n",
      "  tracks_values = evaluation_df[metric + '_tracks'].as_matrix()\n",
      "/home/ubuntu/Spotify-Challenge/utils/evaluator.py:191: FutureWarning: Method .as_matrix will be removed in a future version. Use .values instead.\n",
      "  artists_values = evaluation_df[metric + '_artists'].as_matrix()\n"
     ]
    },
    {
     "data": {
      "text/plain": [
       "(0.00031956564542555253,\n",
       " 0.0005837060745494298,\n",
       " 50.8759,\n",
       " 5.033028710195894e-05,\n",
       " 0.0009649505194430582,\n",
       " 50.8586)"
      ]
     },
     "execution_count": 30,
     "metadata": {},
     "output_type": "execute_result"
    }
   ],
   "source": [
    "eurm = sps.csr_matrix(pred_lil)\n",
    "eurm = eurm_remove_seed(eurm , dr )\n",
    "rec_list = eurm_to_recommendation_list(eurm)\n",
    "ev.evaluate(rec_list, \"cat2_spm_max\",verbose=True, do_plot=True, show_plot=True, save=True )"
   ]
  },
  {
   "cell_type": "code",
   "execution_count": 34,
   "metadata": {},
   "outputs": [
    {
     "name": "stderr",
     "output_type": "stream",
     "text": [
      "\n",
      "\n",
      "roba varia :   0%|          | 0/30 [00:00<?, ?it/s]\u001b[A\u001b[A\n",
      "\n",
      "roba varia :   3%|▎         | 1/30 [00:02<01:16,  2.63s/it]\u001b[A\u001b[A\n",
      "\n",
      "roba varia :   7%|▋         | 2/30 [00:02<00:38,  1.38s/it]\u001b[A\u001b[A\n",
      "\n",
      "roba varia :  17%|█▋        | 5/30 [00:02<00:14,  1.72it/s]\u001b[A\u001b[A\n",
      "\n",
      "roba varia :  20%|██        | 6/30 [00:03<00:12,  1.98it/s]\u001b[A\u001b[A\n",
      "\n",
      "roba varia :  23%|██▎       | 7/30 [00:03<00:11,  2.09it/s]\u001b[A\u001b[A\n",
      "\n",
      "roba varia :  30%|███       | 9/30 [00:03<00:09,  2.26it/s]\u001b[A\u001b[A\n",
      "\n",
      "roba varia :  33%|███▎      | 10/30 [00:04<00:08,  2.44it/s]\u001b[A\u001b[A\n",
      "\n",
      "roba varia :  40%|████      | 12/30 [00:04<00:06,  2.70it/s]\u001b[A\u001b[A\n",
      "\n",
      "roba varia :  43%|████▎     | 13/30 [00:04<00:06,  2.77it/s]\u001b[A\u001b[A\n",
      "\n",
      "roba varia :  47%|████▋     | 14/30 [00:05<00:06,  2.66it/s]\u001b[A\u001b[A\n",
      "\n",
      "roba varia :  50%|█████     | 15/30 [00:06<00:06,  2.46it/s]\u001b[A\u001b[A\n",
      "\n",
      "roba varia :  53%|█████▎    | 16/30 [00:06<00:05,  2.44it/s]\u001b[A\u001b[A"
     ]
    },
    {
     "ename": "KeyboardInterrupt",
     "evalue": "",
     "traceback": [
      "\u001b[0;31m---------------------------------------------------------------------------\u001b[0m",
      "\u001b[0;31mKeyboardInterrupt\u001b[0m                         Traceback (most recent call last)",
      "\u001b[0;32m<ipython-input-34-844a83aef942>\u001b[0m in \u001b[0;36m<module>\u001b[0;34m()\u001b[0m\n\u001b[1;32m      1\u001b[0m \u001b[0mpred_lil\u001b[0m \u001b[0;34m=\u001b[0m \u001b[0msps\u001b[0m\u001b[0;34m.\u001b[0m\u001b[0mlil_matrix\u001b[0m\u001b[0;34m(\u001b[0m\u001b[0;34m(\u001b[0m\u001b[0;36m10000\u001b[0m\u001b[0;34m,\u001b[0m \u001b[0;36m2262292\u001b[0m\u001b[0;34m)\u001b[0m\u001b[0;34m)\u001b[0m\u001b[0;34m\u001b[0m\u001b[0m\n\u001b[1;32m      2\u001b[0m \u001b[0;32mfor\u001b[0m \u001b[0mi\u001b[0m \u001b[0;32min\u001b[0m \u001b[0mtqdm\u001b[0m\u001b[0;34m(\u001b[0m\u001b[0mrange\u001b[0m\u001b[0;34m(\u001b[0m\u001b[0;36m1000\u001b[0m\u001b[0;34m,\u001b[0m\u001b[0;36m1030\u001b[0m\u001b[0;34m)\u001b[0m\u001b[0;34m,\u001b[0m \u001b[0mdesc\u001b[0m\u001b[0;34m=\u001b[0m\u001b[0;34m'roba varia '\u001b[0m\u001b[0;34m)\u001b[0m\u001b[0;34m:\u001b[0m\u001b[0;34m\u001b[0m\u001b[0m\n\u001b[0;32m----> 3\u001b[0;31m     \u001b[0msequences\u001b[0m \u001b[0;34m=\u001b[0m \u001b[0mload_obj\u001b[0m\u001b[0;34m(\u001b[0m\u001b[0mpath\u001b[0m\u001b[0;34m=\u001b[0m\u001b[0mROOT_DIR\u001b[0m\u001b[0;34m+\u001b[0m\u001b[0;34m'/data/cat1/'\u001b[0m\u001b[0;34m,\u001b[0m \u001b[0mname\u001b[0m\u001b[0;34m=\u001b[0m\u001b[0;34m'sequences_cat1_'\u001b[0m\u001b[0;34m+\u001b[0m\u001b[0mstr\u001b[0m\u001b[0;34m(\u001b[0m\u001b[0mi\u001b[0m\u001b[0;34m)\u001b[0m\u001b[0;34m)\u001b[0m\u001b[0;34m\u001b[0m\u001b[0m\n\u001b[0m\u001b[1;32m      4\u001b[0m     \u001b[0mpopularity\u001b[0m \u001b[0;34m=\u001b[0m \u001b[0mlen\u001b[0m\u001b[0;34m(\u001b[0m\u001b[0msequences\u001b[0m\u001b[0;34m)\u001b[0m\u001b[0;34m\u001b[0m\u001b[0m\n\u001b[1;32m      5\u001b[0m     \u001b[0mpreds_line\u001b[0m \u001b[0;34m=\u001b[0m \u001b[0mnp\u001b[0m\u001b[0;34m.\u001b[0m\u001b[0mzeros\u001b[0m\u001b[0;34m(\u001b[0m\u001b[0;36m2262292\u001b[0m\u001b[0;34m)\u001b[0m\u001b[0;34m\u001b[0m\u001b[0m\n",
      "\u001b[0;32m~/Spotify-Challenge/utils/definitions.py\u001b[0m in \u001b[0;36mload_obj\u001b[0;34m(name, path)\u001b[0m\n\u001b[1;32m     12\u001b[0m \u001b[0;32mdef\u001b[0m \u001b[0mload_obj\u001b[0m\u001b[0;34m(\u001b[0m\u001b[0mname\u001b[0m\u001b[0;34m,\u001b[0m \u001b[0mpath\u001b[0m\u001b[0;34m=\u001b[0m\u001b[0;34m''\u001b[0m\u001b[0;34m)\u001b[0m\u001b[0;34m:\u001b[0m\u001b[0;34m\u001b[0m\u001b[0m\n\u001b[1;32m     13\u001b[0m     \u001b[0;32mwith\u001b[0m \u001b[0mopen\u001b[0m\u001b[0;34m(\u001b[0m\u001b[0mpath\u001b[0m \u001b[0;34m+\u001b[0m \u001b[0mname\u001b[0m \u001b[0;34m+\u001b[0m \u001b[0;34m'.pkl'\u001b[0m\u001b[0;34m,\u001b[0m \u001b[0;34m'rb'\u001b[0m\u001b[0;34m)\u001b[0m \u001b[0;32mas\u001b[0m \u001b[0mf\u001b[0m\u001b[0;34m:\u001b[0m\u001b[0;34m\u001b[0m\u001b[0m\n\u001b[0;32m---> 14\u001b[0;31m         \u001b[0;32mreturn\u001b[0m \u001b[0mpickle\u001b[0m\u001b[0;34m.\u001b[0m\u001b[0mload\u001b[0m\u001b[0;34m(\u001b[0m\u001b[0mf\u001b[0m\u001b[0;34m)\u001b[0m\u001b[0;34m\u001b[0m\u001b[0m\n\u001b[0m\u001b[1;32m     15\u001b[0m \u001b[0;34m\u001b[0m\u001b[0m\n\u001b[1;32m     16\u001b[0m \u001b[0;34m\u001b[0m\u001b[0m\n",
      "\u001b[0;31mKeyboardInterrupt\u001b[0m: "
     ],
     "output_type": "error"
    }
   ],
   "source": [
    "pred_lil = sps.lil_matrix((10000, 2262292))\n",
    "for i in tqdm(range(1000,1030), desc='roba varia '):\n",
    "    sequences = load_obj(path=ROOT_DIR+'/data/cat1/', name='sequences_cat1_'+str(i))\n",
    "    popularity = len(sequences)\n",
    "    preds_line = np.zeros(2262292)\n",
    "    \n",
    "    for seq in fpgrowth(sequences,supp= -popularity/costante_di_popolarita, target='c'):\n",
    "        for song in seq[0]:\n",
    "            preds_line[song]+= seq[1]*(len(seq[0])-1)*(len(seq[0])-1)\n",
    "    vals = fast_argpart(preds_line)\n",
    "    \n",
    "    pred_lil[i,vals] = preds_line[vals]\n",
    "eurm = sps.csr_matrix(pred_lil)\n",
    "eurm = eurm_remove_seed(eurm , dr )\n",
    "rec_list = eurm_to_recommendation_list(eurm)\n",
    "ev.evaluate(rec_list, \"cat2_spm_max\",verbose=True, do_plot=True, show_plot=True, save=True )"
   ]
  },
  {
   "cell_type": "code",
   "execution_count": null,
   "metadata": {},
   "outputs": [],
   "source": []
  },
  {
   "cell_type": "code",
   "execution_count": null,
   "metadata": {},
   "outputs": [],
   "source": []
  },
  {
   "cell_type": "code",
   "execution_count": null,
   "metadata": {},
   "outputs": [],
   "source": []
  },
  {
   "cell_type": "code",
   "execution_count": 16,
   "metadata": {},
   "outputs": [
    {
     "name": "stderr",
     "output_type": "stream",
     "text": [
      "100%|██████████| 1000/1000 [05:57<00:00,  2.80it/s]\n",
      "Converting eurm:   6%|▋         | 633/10000 [00:00<00:01, 6320.27it/s]"
     ]
    },
    {
     "name": "stdout",
     "output_type": "stream",
     "text": [
      "[ WARNING! Datareader is None. It was not possible to remove seeds while converting the eurm ]\n"
     ]
    },
    {
     "name": "stderr",
     "output_type": "stream",
     "text": [
      "Converting eurm: 100%|██████████| 10000/10000 [00:01<00:00, 6336.26it/s]\n",
      "Evaluating: 100%|██████████| 10000/10000 [00:06<00:00, 1636.53it/s]"
     ]
    },
    {
     "name": "stdout",
     "output_type": "stream",
     "text": [
      "       clicks_artists  clicks_tracks  ndcg_artists  ndcg_tracks  \\\n",
      "cat1          51.0000        51.0000      0.000000     0.000000   \n",
      "cat2           8.5620        13.1590      0.278146     0.176737   \n",
      "cat3          51.0000        51.0000      0.000000     0.000000   \n",
      "cat4          51.0000        51.0000      0.000000     0.000000   \n",
      "cat5          51.0000        51.0000      0.000000     0.000000   \n",
      "cat6          51.0000        51.0000      0.000000     0.000000   \n",
      "cat7          51.0000        51.0000      0.000000     0.000000   \n",
      "cat8          51.0000        51.0000      0.000000     0.000000   \n",
      "cat9          51.0000        51.0000      0.000000     0.000000   \n",
      "cat10         51.0000        51.0000      0.000000     0.000000   \n",
      "mean          46.7562        47.2159      0.027815     0.017674   \n",
      "\n",
      "       precision_artists  precision_tracks  \n",
      "cat1            0.000000          0.000000  \n",
      "cat2            0.014166          0.098417  \n",
      "cat3            0.000000          0.000000  \n",
      "cat4            0.000000          0.000000  \n",
      "cat5            0.000000          0.000000  \n",
      "cat6            0.000000          0.000000  \n",
      "cat7            0.000000          0.000000  \n",
      "cat8            0.000000          0.000000  \n",
      "cat9            0.000000          0.000000  \n",
      "cat10           0.000000          0.000000  \n",
      "mean            0.001417          0.009842  \n"
     ]
    },
    {
     "name": "stderr",
     "output_type": "stream",
     "text": [
      "\n",
      "/home/ubuntu/Spotify-Challenge/utils/evaluator.py:190: FutureWarning: Method .as_matrix will be removed in a future version. Use .values instead.\n",
      "  tracks_values = evaluation_df[metric + '_tracks'].as_matrix()\n",
      "/home/ubuntu/Spotify-Challenge/utils/evaluator.py:191: FutureWarning: Method .as_matrix will be removed in a future version. Use .values instead.\n",
      "  artists_values = evaluation_df[metric + '_artists'].as_matrix()\n"
     ]
    },
    {
     "data": {
      "text/plain": [
       "(0.00984173390443778,\n",
       " 0.017673749302371637,\n",
       " 47.2159,\n",
       " 0.001416606671301035,\n",
       " 0.02781461782245947,\n",
       " 46.7562)"
      ]
     },
     "execution_count": 16,
     "metadata": {},
     "output_type": "execute_result"
    }
   ],
   "source": []
  },
  {
   "cell_type": "code",
   "execution_count": null,
   "metadata": {},
   "outputs": [],
   "source": []
  },
  {
   "cell_type": "code",
   "execution_count": null,
   "metadata": {},
   "outputs": [],
   "source": []
  },
  {
   "cell_type": "code",
   "execution_count": null,
   "metadata": {},
   "outputs": [],
   "source": []
  }
 ],
 "metadata": {
  "kernelspec": {
   "display_name": "Python 3",
   "language": "python",
   "name": "python3"
  },
  "language_info": {
   "codemirror_mode": {
    "name": "ipython",
    "version": 3
   },
   "file_extension": ".py",
   "mimetype": "text/x-python",
   "name": "python",
   "nbconvert_exporter": "python",
   "pygments_lexer": "ipython3",
   "version": "3.5.2"
  }
 },
 "nbformat": 4,
 "nbformat_minor": 2
}
