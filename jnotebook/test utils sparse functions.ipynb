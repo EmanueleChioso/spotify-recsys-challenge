{
 "cells": [
  {
   "cell_type": "markdown",
   "metadata": {},
   "source": [
    "# Test functions"
   ]
  },
  {
   "cell_type": "code",
   "execution_count": 1,
   "metadata": {},
   "outputs": [],
   "source": [
    "from utils.sparse import *"
   ]
  },
  {
   "cell_type": "markdown",
   "metadata": {},
   "source": [
    "# Function list \n",
    "1. inplace_set_rows_zero_where_sum (X, op, cut)  \n",
    "2. inplace_set_cols_zero_where_sum (X, op, cut)\n",
    "3. inplace_set_rows_zero (X, target_rows)\n",
    "4. inplace_set_cols_zero (X, target_cols)\n",
    "5. inplace_row_scale (X, scale)\n",
    "6. inplace_col_scale (X, scale)   \n",
    "7. sum_cols (X)\n",
    "8. sum_rows (X)"
   ]
  },
  {
   "cell_type": "code",
   "execution_count": 2,
   "metadata": {},
   "outputs": [
    {
     "name": "stdout",
     "output_type": "stream",
     "text": [
      "[[0. 1. 1. 0. 0.]\n",
      " [1. 1. 0. 0. 0.]\n",
      " [0. 0. 1. 1. 1.]\n",
      " [1. 1. 1. 0. 0.]]\n",
      "[[0. 1. 1. 0. 0.]\n",
      " [2. 2. 0. 0. 0.]\n",
      " [0. 0. 3. 3. 3.]\n",
      " [4. 4. 4. 0. 0.]]\n"
     ]
    }
   ],
   "source": [
    "m = sp.random(4,5,0.5).tocsr()\n",
    "m.data = np.ones(m.data.shape[0])\n",
    "print(m.todense())\n",
    "inplace_row_scale(m,np.array([1,2,3,4]))\n",
    "print (m.todense())"
   ]
  },
  {
   "cell_type": "code",
   "execution_count": 3,
   "metadata": {},
   "outputs": [
    {
     "name": "stdout",
     "output_type": "stream",
     "text": [
      "[[1. 0. 0. 0. 0.]\n",
      " [0. 0. 1. 1. 1.]\n",
      " [0. 1. 0. 1. 1.]\n",
      " [1. 1. 0. 0. 1.]]\n",
      "[[1. 0. 0. 0. 0.]\n",
      " [0. 0. 3. 4. 5.]\n",
      " [0. 2. 0. 4. 5.]\n",
      " [1. 2. 0. 0. 5.]]\n"
     ]
    }
   ],
   "source": [
    "m = sp.random(4,5,0.5).tocsc()\n",
    "m.data = np.ones(m.data.shape[0])\n",
    "print(m.todense())\n",
    "inplace_col_scale(m,np.array([1,2,3,4,5]))\n",
    "print (m.todense())"
   ]
  },
  {
   "cell_type": "code",
   "execution_count": 4,
   "metadata": {},
   "outputs": [
    {
     "name": "stdout",
     "output_type": "stream",
     "text": [
      "[[0. 0. 0. 0. 1.]\n",
      " [1. 0. 1. 1. 0.]\n",
      " [0. 0. 0. 1. 1.]\n",
      " [1. 1. 1. 0. 1.]]\n",
      "[[0. 0. 0. 0. 1.]\n",
      " [0. 0. 0. 0. 0.]\n",
      " [0. 0. 0. 1. 1.]\n",
      " [0. 0. 0. 0. 0.]]\n"
     ]
    }
   ],
   "source": [
    "m = sp.random(4,5,0.5).tocsr()\n",
    "m.data = np.ones(m.data.shape[0])\n",
    "print(m.todense())\n",
    "inplace_set_rows_zero(m,np.array([1,3]))\n",
    "print (m.todense())"
   ]
  },
  {
   "cell_type": "code",
   "execution_count": 5,
   "metadata": {},
   "outputs": [
    {
     "name": "stdout",
     "output_type": "stream",
     "text": [
      "[[0. 0. 1. 0. 1.]\n",
      " [1. 1. 0. 1. 0.]\n",
      " [0. 1. 0. 1. 0.]\n",
      " [0. 0. 1. 1. 1.]]\n",
      "[[0. 0. 1. 0. 1.]\n",
      " [1. 0. 0. 0. 0.]\n",
      " [0. 0. 0. 0. 0.]\n",
      " [0. 0. 1. 0. 1.]]\n"
     ]
    }
   ],
   "source": [
    "m = sp.random(4,5,0.5).tocsr()\n",
    "m.data = np.ones(m.data.shape[0])\n",
    "print(m.todense())\n",
    "inplace_set_cols_zero(m,np.array([1,3]))\n",
    "print (m.todense())"
   ]
  },
  {
   "cell_type": "code",
   "execution_count": 6,
   "metadata": {},
   "outputs": [
    {
     "name": "stdout",
     "output_type": "stream",
     "text": [
      "[2.06284216 0.17633125 0.86179057 1.79197257]\n",
      "[[0.         0.         0.         0.         0.        ]\n",
      " [0.         0.         0.         0.         0.17633125]\n",
      " [0.01446204 0.         0.39882688 0.         0.44850165]\n",
      " [0.         0.         0.         0.         0.        ]]\n"
     ]
    }
   ],
   "source": [
    "m = sp.random(4,5,0.5).tocsr()\n",
    "print (sum_rows(m))\n",
    "inplace_set_rows_zero_where_sum(m, '>', 1.5)\n",
    "print (m.todense())"
   ]
  },
  {
   "cell_type": "code",
   "execution_count": 8,
   "metadata": {},
   "outputs": [
    {
     "name": "stdout",
     "output_type": "stream",
     "text": [
      "[1.96108189 1.12923879 0.         1.93997106 0.40970854]\n",
      "[[0.         0.69020914 0.         0.         0.40970854]\n",
      " [0.         0.         0.         0.         0.        ]\n",
      " [0.         0.         0.         0.         0.        ]\n",
      " [0.         0.43902965 0.         0.         0.        ]]\n"
     ]
    }
   ],
   "source": [
    "m = sp.random(4,5,0.5).tocsr()\n",
    "print (sum_cols(m))\n",
    "inplace_set_cols_zero_where_sum(m, '>', 1.5)\n",
    "print (m.todense())"
   ]
  }
 ],
 "metadata": {
  "kernelspec": {
   "display_name": "Python 3",
   "language": "python",
   "name": "python3"
  },
  "language_info": {
   "codemirror_mode": {
    "name": "ipython",
    "version": 3
   },
   "file_extension": ".py",
   "mimetype": "text/x-python",
   "name": "python",
   "nbconvert_exporter": "python",
   "pygments_lexer": "ipython3",
   "version": "3.6.4"
  }
 },
 "nbformat": 4,
 "nbformat_minor": 2
}
