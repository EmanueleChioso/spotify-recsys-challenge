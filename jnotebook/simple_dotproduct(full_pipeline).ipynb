{
 "cells": [
  {
   "cell_type": "code",
   "execution_count": 21,
   "metadata": {},
   "outputs": [],
   "source": [
    "from recommenders.similarity.dot_product import dot_product_similarity, dot_product\n",
    "from utils.datareader import Datareader\n",
    "from utils.evaluator import Evaluator\n",
    "from utils.post_processing import eurm_to_recommendation_list\n",
    "from sklearn.preprocessing import normalize"
   ]
  },
  {
   "cell_type": "code",
   "execution_count": 2,
   "metadata": {},
   "outputs": [
    {
     "name": "stdout",
     "output_type": "stream",
     "text": [
      "IMPORTANT: all the returned matrices are in CSR format!!!\n",
      "[working on: TEST_NUM: 1 ]\n"
     ]
    }
   ],
   "source": [
    "dr = Datareader(mode='offline', only_load=True )"
   ]
  },
  {
   "cell_type": "code",
   "execution_count": 19,
   "metadata": {},
   "outputs": [
    {
     "name": "stdout",
     "output_type": "stream",
     "text": [
      "[TRACKS: READING csv from /Users/simoneboglio/Documents/GitHub/Spotify-Challenge/data/original/tracks.csv ]\n",
      "[PLAYLISTS: READING csv from /Users/simoneboglio/Documents/GitHub/Spotify-Challenge/data/test1/test_playlists.csv ]\n",
      "[EVAL INTERACTIONS: READING csv from: /Users/simoneboglio/Documents/GitHub/Spotify-Challenge/data/test1/eval_interactions.csv ]\n"
     ]
    }
   ],
   "source": [
    "ev = Evaluator(dr)"
   ]
  },
  {
   "cell_type": "code",
   "execution_count": 3,
   "metadata": {},
   "outputs": [
    {
     "name": "stdout",
     "output_type": "stream",
     "text": [
      "[URM urm.npz loaded from /Users/simoneboglio/Documents/GitHub/Spotify-Challenge/data/test1/ ]\n"
     ]
    }
   ],
   "source": [
    "urm = dr.get_urm()"
   ]
  },
  {
   "cell_type": "code",
   "execution_count": 4,
   "metadata": {},
   "outputs": [],
   "source": [
    "s = dot_product_similarity(urm.T,k=100)"
   ]
  },
  {
   "cell_type": "code",
   "execution_count": 5,
   "metadata": {},
   "outputs": [],
   "source": [
    "r = dot_product(urm, s, k=500)"
   ]
  },
  {
   "cell_type": "code",
   "execution_count": 12,
   "metadata": {},
   "outputs": [],
   "source": [
    "r = r.tocsr()"
   ]
  },
  {
   "cell_type": "code",
   "execution_count": 30,
   "metadata": {},
   "outputs": [
    {
     "name": "stdout",
     "output_type": "stream",
     "text": [
      "[PLAYLISTS: READING csv from /Users/simoneboglio/Documents/GitHub/Spotify-Challenge/data/test1/test_playlists.csv ]\n",
      "DF test playlsits readed\n",
      "Index order: 0-pid\n"
     ]
    }
   ],
   "source": [
    "pid = dr.get_test_playlists().transpose()[0]"
   ]
  },
  {
   "cell_type": "code",
   "execution_count": 31,
   "metadata": {},
   "outputs": [],
   "source": [
    "eurm = r[pid]"
   ]
  },
  {
   "cell_type": "code",
   "execution_count": 32,
   "metadata": {},
   "outputs": [
    {
     "name": "stderr",
     "output_type": "stream",
     "text": [
      "Converting eurm: 100%|██████████| 10000/10000 [00:01<00:00, 5206.28it/s]\n"
     ]
    }
   ],
   "source": [
    "rec_list = eurm_to_recommendation_list(eurm)"
   ]
  },
  {
   "cell_type": "code",
   "execution_count": 20,
   "metadata": {},
   "outputs": [
    {
     "name": "stderr",
     "output_type": "stream",
     "text": [
      "Evaluating dot_product: 100%|██████████| 10000/10000 [00:24<00:00, 401.56it/s]\n"
     ]
    },
    {
     "name": "stdout",
     "output_type": "stream",
     "text": [
      "       clicks_artists  clicks_tracks  ndcg_artists  ndcg_tracks  \\\n",
      "cat1          49.9800        50.7450      0.020000     0.005000   \n",
      "cat2           4.9390         9.8230      0.506662     0.352570   \n",
      "cat3           0.7130         2.6470      0.614240     0.425635   \n",
      "cat4           0.3790         1.7910      0.637888     0.451117   \n",
      "cat5           0.3280         1.9200      0.613008     0.430697   \n",
      "cat6           0.3740         2.1580      0.625422     0.437511   \n",
      "cat7           0.1910         0.9730      0.698334     0.516882   \n",
      "cat8           0.0890         0.5860      0.753843     0.589934   \n",
      "cat9           0.6540         2.6250      0.619004     0.421056   \n",
      "cat10          0.0920         0.8230      0.707957     0.497184   \n",
      "mean           5.7739         7.4091      0.579636     0.412759   \n",
      "\n",
      "       precision_artists  precision_tracks  \n",
      "cat1            0.000831          0.000147  \n",
      "cat2            0.179464          0.109843  \n",
      "cat3            0.222640          0.124386  \n",
      "cat4            0.236881          0.137408  \n",
      "cat5            0.221282          0.120732  \n",
      "cat6            0.237540          0.131113  \n",
      "cat7            0.259036          0.146308  \n",
      "cat8            0.309309          0.183006  \n",
      "cat9            0.210694          0.091744  \n",
      "cat10           0.278775          0.123049  \n",
      "mean            0.215645          0.116774  \n"
     ]
    },
    {
     "data": {
      "text/plain": [
       "(0.1167736526462925,\n",
       " 0.4127586470885266,\n",
       " 7.4091,\n",
       " 0.21564516072674467,\n",
       " 0.5796358043651789,\n",
       " 5.773899999999999)"
      ]
     },
     "execution_count": 20,
     "metadata": {},
     "output_type": "execute_result"
    }
   ],
   "source": [
    "ev.evaluate(recommendation_list=rec_list, name= 'dot_product', do_plot=False)"
   ]
  },
  {
   "cell_type": "code",
   "execution_count": null,
   "metadata": {},
   "outputs": [],
   "source": []
  }
 ],
 "metadata": {
  "kernelspec": {
   "display_name": "Python 3",
   "language": "python",
   "name": "python3"
  },
  "language_info": {
   "codemirror_mode": {
    "name": "ipython",
    "version": 3
   },
   "file_extension": ".py",
   "mimetype": "text/x-python",
   "name": "python",
   "nbconvert_exporter": "python",
   "pygments_lexer": "ipython3",
   "version": "3.6.4"
  }
 },
 "nbformat": 4,
 "nbformat_minor": 2
}
